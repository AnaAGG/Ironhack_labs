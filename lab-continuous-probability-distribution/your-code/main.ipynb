{
 "cells": [
  {
   "cell_type": "markdown",
   "metadata": {},
   "source": [
    "# Before your start:\n",
    "\n",
    "    Read the README.md file\n",
    "    Comment as much as you can and use the resources (README.md file)\n",
    "    Happy learning!"
   ]
  },
  {
   "cell_type": "markdown",
   "metadata": {},
   "source": [
    "In this exercise, we  will generate random numbers from the continuous disributions we learned in the lesson. There are two ways to generate random numbers:\n",
    "\n",
    "1. Using the numpy library \n",
    "1. using the Scipy library \n",
    "\n",
    "Use either or both of the lbraries in this exercise."
   ]
  },
  {
   "cell_type": "code",
   "execution_count": 1,
   "metadata": {},
   "outputs": [],
   "source": [
    "import numpy as np\n",
    "import random\n",
    "import matplotlib.pyplot as plt\n",
    "import pandas as pd\n",
    "import seaborn as sns\n",
    "from scipy.stats import expon"
   ]
  },
  {
   "cell_type": "markdown",
   "metadata": {},
   "source": [
    "## Uniform Distribution\n",
    "\n",
    "To generate uniform random numbers between any two given values using scipy, we can either use the following code or the code that we have\n",
    "discussed in class:"
   ]
  },
  {
   "cell_type": "code",
   "execution_count": 2,
   "metadata": {},
   "outputs": [
    {
     "name": "stdout",
     "output_type": "stream",
     "text": [
      "[2.63702777 2.73538803 2.56954944 2.76247949 2.19636032 2.50345666\n",
      " 2.92488854 2.96539395 2.46336176 2.36956838]\n"
     ]
    }
   ],
   "source": [
    "from scipy.stats import uniform\n",
    "x = uniform.rvs(size=10)\n",
    "a = 2\n",
    "b = 3\n",
    "randoms  = a + (b-a)*x\n",
    "print(randoms)"
   ]
  },
  {
   "cell_type": "markdown",
   "metadata": {},
   "source": [
    "**Your task:**\n",
    "\n",
    "1. Based on the code above, write a function that generates uniformly distributed random numbers. There are several requirements for your function:\n",
    "    * It should accept 3 parameters: \n",
    "        * `bottom` - the lower boundary of the generated numbers\n",
    "        * `ceiling` - the upper boundary of the generated numbers\n",
    "        * `count` - how many numbers to generate\n",
    "    * It should return an array of uniformly distributed random numbers\n",
    "\n",
    "1. Call your function with 2 sets of params below:\n",
    "    * bottom=10, ceiling=15, count=100\n",
    "    * bottom=10, ceiling=60, count=1,000\n",
    "\n",
    "1. Plot the uniform distributions generated above using histograms, where x axis is the value and y axis is the count. Let the histogram's number of bins be 10.\n",
    "\n",
    "Your output should look like below:\n",
    "\n",
    "![uniform distribution](ud.png)"
   ]
  },
  {
   "cell_type": "code",
   "execution_count": 3,
   "metadata": {},
   "outputs": [],
   "source": [
    "#The first way to generate random numbers:\n",
    "def create_uniform(bottom, ceiling, count):\n",
    "    uniform_nums = np.random.uniform(bottom, ceiling, count)\n",
    "    return uniform_nums"
   ]
  },
  {
   "cell_type": "code",
   "execution_count": 92,
   "metadata": {},
   "outputs": [],
   "source": [
    "uniform1 = create_uniform (10, 15,100)\n",
    "uniform2 = create_uniform(10,60, 1000)"
   ]
  },
  {
   "cell_type": "code",
   "execution_count": 94,
   "metadata": {
    "scrolled": true
   },
   "outputs": [
    {
     "data": {
      "image/png": "[encoded data removed]",
      "text/plain": [
       "<Figure size 720x360 with 2 Axes>"
      ]
     },
     "metadata": {
      "needs_background": "light"
     },
     "output_type": "display_data"
    }
   ],
   "source": [
    "fig, axes = plt.subplots(nrows=1, ncols=2,figsize=(10,5), sharey = True)\n",
    "\n",
    "axes[0].hist(uniform1, histtype =  'stepfilled', color = 'slateblue', ec =  'black')\n",
    "axes[1].hist(uniform2, histtype =  'stepfilled', color = 'slateblue', ec = 'black')\n",
    "axes[0].set_title('sample_size = 100')\n",
    "axes[1].set_title('sample_size = 1000')\n",
    "\n",
    "plt.show()"
   ]
  },
  {
   "cell_type": "markdown",
   "metadata": {},
   "source": [
    "**How are the two distributions different?**"
   ]
  },
  {
   "cell_type": "markdown",
   "metadata": {},
   "source": [
    "Yes, the two graphs are different. This is because of the different sample sizes taken to make the graphical representations. Thus, the larger sample size of our second plot give us closer uniform distribution, which is what we can see in the graphs. "
   ]
  },
  {
   "cell_type": "markdown",
   "metadata": {},
   "source": [
    "## Normal Distribution\n",
    "\n",
    "1. In the same way in the Uniform Distribution challenge, write a function that generates normally distributed random numbers.\n",
    "1. Generate 1,000 normally distributed numbers with the average of 10 and standard deviation of 1\n",
    "1. Generate 1,000 normally distributed numbers with the average of 10 and standard deviation of 50\n",
    "2. Plot the distributions of the data generated.\n",
    "\n",
    "Expected output:\n",
    "\n",
    "![normal distribution](nd.png)"
   ]
  },
  {
   "cell_type": "code",
   "execution_count": 6,
   "metadata": {},
   "outputs": [],
   "source": [
    "# your code here\n",
    "def create_normal(mean, std, size):\n",
    "    normal_nums = np.random.normal(mean, std, size)\n",
    "    return normal_nums"
   ]
  },
  {
   "cell_type": "code",
   "execution_count": 18,
   "metadata": {},
   "outputs": [],
   "source": [
    "normal1 = create_normal(10,1, 1000)\n",
    "normal2 = create_normal(10,50, 1000)"
   ]
  },
  {
   "cell_type": "code",
   "execution_count": 95,
   "metadata": {},
   "outputs": [
    {
     "data": {
      "text/plain": [
       "(array([ 1.,  1.,  1.,  2.,  4.,  2.,  5.,  6., 10.,  9.,  6., 11., 16.,\n",
       "        16., 15., 22., 43., 34., 31., 41., 44., 45., 62., 52., 48., 61.,\n",
       "        40., 63., 29., 39., 37., 38., 28., 27., 21., 19.,  7., 18.,  6.,\n",
       "        10., 10.,  6.,  4.,  1.,  2.,  2.,  2.,  0.,  2.,  1.]),\n",
       " array([-1.49306595e+02, -1.42822282e+02, -1.36337969e+02, -1.29853655e+02,\n",
       "        -1.23369342e+02, -1.16885028e+02, -1.10400715e+02, -1.03916402e+02,\n",
       "        -9.74320881e+01, -9.09477747e+01, -8.44634613e+01, -7.79791479e+01,\n",
       "        -7.14948345e+01, -6.50105210e+01, -5.85262076e+01, -5.20418942e+01,\n",
       "        -4.55575808e+01, -3.90732674e+01, -3.25889540e+01, -2.61046405e+01,\n",
       "        -1.96203271e+01, -1.31360137e+01, -6.65170030e+00, -1.67386883e-01,\n",
       "         6.31692653e+00,  1.28012399e+01,  1.92855534e+01,  2.57698668e+01,\n",
       "         3.22541802e+01,  3.87384936e+01,  4.52228070e+01,  5.17071204e+01,\n",
       "         5.81914339e+01,  6.46757473e+01,  7.11600607e+01,  7.76443741e+01,\n",
       "         8.41286875e+01,  9.06130009e+01,  9.70973143e+01,  1.03581628e+02,\n",
       "         1.10065941e+02,  1.16550255e+02,  1.23034568e+02,  1.29518881e+02,\n",
       "         1.36003195e+02,  1.42487508e+02,  1.48971822e+02,  1.55456135e+02,\n",
       "         1.61940448e+02,  1.68424762e+02,  1.74909075e+02]),\n",
       " [<matplotlib.patches.Polygon at 0x7f6c11128970>])"
      ]
     },
     "execution_count": 95,
     "metadata": {},
     "output_type": "execute_result"
    },
    {
     "data": {
      "image/png": "[encoded data removed]",
      "text/plain": [
       "<Figure size 720x360 with 2 Axes>"
      ]
     },
     "metadata": {
      "needs_background": "light"
     },
     "output_type": "display_data"
    }
   ],
   "source": [
    "# your answer below\n",
    "fig, axes = plt.subplots(nrows=1, ncols=2,figsize=(10,5), sharey = True)\n",
    "\n",
    "axes[0].hist(normal1, histtype =  'stepfilled', color = 'teal', ec =  'black', bins = 50)\n",
    "axes[1].hist(normal2, histtype =  'stepfilled', color = 'teal', ec = 'black', bins = 50)"
   ]
  },
  {
   "cell_type": "markdown",
   "metadata": {},
   "source": [
    "**How are the two distributions different?**"
   ]
  },
  {
   "cell_type": "markdown",
   "metadata": {},
   "source": [
    "In these two plots we can see the differences between two datasets that have the same mean but different standard deviation. The standard deviation  measures the dispersion of the data relative to the mean. The second plot has a higher standard deviation, therefore it has a higher dispersion."
   ]
  },
  {
   "cell_type": "markdown",
   "metadata": {},
   "source": [
    "## Normal Distribution of Real Data\n",
    "\n",
    "In this challenge we are going to take a look the real data. We will use vehicles.csv file for this exercise"
   ]
  },
  {
   "cell_type": "markdown",
   "metadata": {},
   "source": [
    "First import vehicles.csv.\n",
    "Then plot the histograms for the following variables:\n",
    "\n",
    "1. Fuel Barrels/Year"
   ]
  },
  {
   "cell_type": "code",
   "execution_count": 106,
   "metadata": {},
   "outputs": [],
   "source": [
    "# your code here\n",
    "cars = pd.read_csv(\"vehicles.csv\")\n",
    "cars.columns = cars.columns.str.replace(' ', '')"
   ]
  },
  {
   "cell_type": "code",
   "execution_count": 34,
   "metadata": {},
   "outputs": [],
   "source": [
    "def mean_std(df, col):\n",
    "    mean = df[col].mean()\n",
    "    std =  df[col].std()\n",
    "    return (f'{col} ==> The mean = {mean} and the std = {std}')"
   ]
  },
  {
   "cell_type": "code",
   "execution_count": 45,
   "metadata": {},
   "outputs": [
    {
     "name": "stdout",
     "output_type": "stream",
     "text": [
      "CO2EmissionGrams/Mile ==> The mean = 475.3163392572124 and the std = 119.06077323592496\n",
      " FuelBarrels/Year ==> The mean = 17.609055502328133 and the std = 4.467282686296915\n",
      " CombinedMPG ==> The mean = 19.92932242990654 and the std = 5.112408944666045\n"
     ]
    }
   ],
   "source": [
    "#Summarizing the data statitics\n",
    "CO2Emission = mean_std(cars, 'CO2EmissionGrams/Mile')\n",
    "FuelBarrels = mean_std(cars, 'FuelBarrels/Year')\n",
    "CombinedMPG = mean_std(cars, 'CombinedMPG')\n",
    "\n",
    "print(CO2Emission +\"\\n\",FuelBarrels +\"\\n\",CombinedMPG)"
   ]
  },
  {
   "cell_type": "code",
   "execution_count": 105,
   "metadata": {},
   "outputs": [
    {
     "data": {
      "text/plain": [
       "Text(0.5, 1.0, 'CombinedMPG')"
      ]
     },
     "execution_count": 105,
     "metadata": {},
     "output_type": "execute_result"
    },
    {
     "data": {
      "image/png": "[encoded data removed]",
      "text/plain": [
       "<Figure size 1080x360 with 3 Axes>"
      ]
     },
     "metadata": {
      "needs_background": "light"
     },
     "output_type": "display_data"
    }
   ],
   "source": [
    "fig, axes = plt.subplots(1, 3, figsize=(15, 5))\n",
    "# Bulbasaur\n",
    "sns.histplot(ax=axes[0],data = cars, x=\"FuelBarrels/Year\", kde = True, weights = 0.1, bins = 30, color = 'purple')\n",
    "axes[0].set_title(\"FuelBarrels/Year\")\n",
    "\n",
    "# Charmander\n",
    "sns.histplot(ax=axes[1], data = cars, x = 'CO2EmissionGrams/Mile', bins = 50, kde = True, color = 'orange')\n",
    "axes[1].set_title('CO2EmissionGrams/Mile')\n",
    "\n",
    "# Squirtle\n",
    "sns.histplot(ax=axes[2], data = cars, x = 'CombinedMPG', bins = 30, kde = True, color = 'green')\n",
    "axes[2].set_title('CombinedMPG')"
   ]
  },
  {
   "cell_type": "markdown",
   "metadata": {},
   "source": [
    "**Which one(s) of the variables are nearly normally distributed? How do you know?**"
   ]
  },
  {
   "cell_type": "markdown",
   "metadata": {},
   "source": [
    "I am not going to run these cells, but...  \n",
    " \n",
    "Another way to visually assess the normality of our data is by using qqplots. \n",
    "The `s` is a standardized line for the expected order of the statistics, scaled by the standard deviation of our samples with the mean added. Basically, it puts the line where it needs to be to compare our data with what would be expected from a normal distribution.  \n",
    "[qqplot](https://medium.com/@rrfd/testing-for-normality-applications-with-python-6bf06ed646a9) \n",
    "\n",
    "`sm.qqplot(cars['CO2EmissionGrams/Mile'],line='s')`  \n",
    "`sm.qqplot(cars['CombinedMPG'],line='s')`  \n",
    "`sm.qqplot(cars['FuelBarrels/Year'],line='s')`  \n",
    "\n",
    "Our data will be normal if our records are fitted to the line of the theoretical distribution of a normal distribution. "
   ]
  },
  {
   "cell_type": "markdown",
   "metadata": {},
   "source": [
    "Another way to test for normality is to use the Shapiro test. If the p value returned is less than.05, then the null hypothesis is rejected and there is evidence that the data is not from a normally distributed population.  \n",
    "`print(stats.shapiro(cars['CO2EmissionGrams/Mile']))`"
   ]
  },
  {
   "cell_type": "markdown",
   "metadata": {},
   "source": [
    "In any case, the data show that the first two variables do have a normal distribution, while the variable XXX seems to be a little outside normality when viewed graphically. "
   ]
  },
  {
   "cell_type": "markdown",
   "metadata": {},
   "source": [
    "## Exponential Distribution"
   ]
  },
  {
   "cell_type": "markdown",
   "metadata": {},
   "source": [
    "1. Using `numpy.random.exponential`, create a function that returns a list of numbers exponentially distributed with the mean of 10. \n",
    "\n",
    "1. Use the function to generate two number sequences with the size of 10 and 100.\n",
    "\n",
    "1. Plot the distributions as histograms with the nubmer of bins as 100.\n",
    "\n",
    "Your output should look like below:\n",
    "\n",
    "![exponential distribution](ed.png)"
   ]
  },
  {
   "cell_type": "code",
   "execution_count": 119,
   "metadata": {},
   "outputs": [],
   "source": [
    "# your code here\n",
    "def create_exponential(mean, size):\n",
    "    return  np.random.exponential(mean, size) "
   ]
  },
  {
   "cell_type": "code",
   "execution_count": 185,
   "metadata": {},
   "outputs": [],
   "source": [
    "exponential_10 = create_exponential(10, 10)\n",
    "exponential_100 = create_exponential(10,100)"
   ]
  },
  {
   "cell_type": "code",
   "execution_count": 186,
   "metadata": {},
   "outputs": [
    {
     "data": {
      "image/png": "[encoded data removed]",
      "text/plain": [
       "<Figure size 720x360 with 2 Axes>"
      ]
     },
     "metadata": {
      "needs_background": "light"
     },
     "output_type": "display_data"
    }
   ],
   "source": [
    "fig, axes = plt.subplots(nrows=1, ncols=2,figsize=(10,5))\n",
    "axes[0].hist(exponential_10, 14, density = True, color = 'darkgreen', ec =  'black') \n",
    "axes[1].hist(exponential_100, 14, density = True,  color = 'darkgreen', ec =  'black') \n",
    "plt.show()"
   ]
  },
  {
   "cell_type": "markdown",
   "metadata": {},
   "source": [
    "**How are the two distributions different?**"
   ]
  },
  {
   "cell_type": "markdown",
   "metadata": {},
   "source": [
    "The pattern of an exponential distribution can be observed in both of them, although in the second one it is clearer due to the larger sample size."
   ]
  },
  {
   "cell_type": "markdown",
   "metadata": {},
   "source": [
    "## Exponential Distribution of Real Data\n",
    "\n",
    "Suppose that the amount of time one spends in a bank is exponentially distributed with mean as 10 minutes (i.e. λ = 1/10). What is the probability that a customer will spend less than fifteen minutes in the bank? \n",
    "\n",
    "Write a code in python to solve this problem"
   ]
  },
  {
   "cell_type": "code",
   "execution_count": 16,
   "metadata": {},
   "outputs": [],
   "source": [
    "# your answer here\n",
    "bank = expon (scale = 10)\n",
    "bank_cdf = round(bank.cdf(15), 3)"
   ]
  },
  {
   "cell_type": "markdown",
   "metadata": {},
   "source": [
    "What is the probability that the customer will spend more than 15 minutes"
   ]
  },
  {
   "cell_type": "code",
   "execution_count": 17,
   "metadata": {},
   "outputs": [
    {
     "name": "stdout",
     "output_type": "stream",
     "text": [
      "The probability of spend more than 15 min is 0.777\n"
     ]
    }
   ],
   "source": [
    "# your answer here\n",
    "print(f\"The probability of spend more than 15 min is {bank_cdf}\")"
   ]
  }
 ],
 "metadata": {
  "kernelspec": {
   "display_name": "Python 3",
   "language": "python",
   "name": "python3"
  },
  "language_info": {
   "codemirror_mode": {
    "name": "ipython",
    "version": 3
   },
   "file_extension": ".py",
   "mimetype": "text/x-python",
   "name": "python",
   "nbconvert_exporter": "python",
   "pygments_lexer": "ipython3",
   "version": "3.8.5"
  },
  "toc": {
   "base_numbering": 1,
   "nav_menu": {},
   "number_sections": true,
   "sideBar": true,
   "skip_h1_title": false,
   "title_cell": "Table of Contents",
   "title_sidebar": "Contents",
   "toc_cell": false,
   "toc_position": {},
   "toc_section_display": true,
   "toc_window_display": false
  },
  "varInspector": {
   "cols": {
    "lenName": 16,
    "lenType": 16,
    "lenVar": 40
   },
   "kernels_config": {
    "python": {
     "delete_cmd_postfix": "",
     "delete_cmd_prefix": "del ",
     "library": "var_list.py",
     "varRefreshCmd": "print(var_dic_list())"
    },
    "r": {
     "delete_cmd_postfix": ") ",
     "delete_cmd_prefix": "rm(",
     "library": "var_list.r",
     "varRefreshCmd": "cat(var_dic_list()) "
    }
   },
   "types_to_exclude": [
    "module",
    "function",
    "builtin_function_or_method",
    "instance",
    "_Feature"
   ],
   "window_display": false
  }
 },
 "nbformat": 4,
 "nbformat_minor": 2
}
