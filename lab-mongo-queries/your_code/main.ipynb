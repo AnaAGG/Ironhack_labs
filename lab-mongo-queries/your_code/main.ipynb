{
 "cells": [
  {
   "cell_type": "markdown",
   "metadata": {},
   "source": [
    "# Advanced Querying Mongo"
   ]
  },
  {
   "cell_type": "markdown",
   "metadata": {},
   "source": [
    "Importing libraries and setting up connection"
   ]
  },
  {
   "cell_type": "code",
   "execution_count": 1,
   "metadata": {},
   "outputs": [
    {
     "data": {
      "text/plain": [
       "Database(MongoClient(host=['localhost:27017'], document_class=dict, tz_aware=False, connect=True), 'companies')"
      ]
     },
     "execution_count": 1,
     "metadata": {},
     "output_type": "execute_result"
    }
   ],
   "source": [
    "from pymongo import MongoClient\n",
    "client = MongoClient()\n",
    "db = client.companies\n",
    "db"
   ]
  },
  {
   "cell_type": "markdown",
   "metadata": {},
   "source": [
    "### 1. All the companies whose name match 'Babelgum'. Retrieve only their `name` field."
   ]
  },
  {
   "cell_type": "code",
   "execution_count": 2,
   "metadata": {},
   "outputs": [
    {
     "data": {
      "text/plain": [
       "[{'name': 'Babelgum'}]"
      ]
     },
     "execution_count": 2,
     "metadata": {},
     "output_type": "execute_result"
    }
   ],
   "source": [
    "# Your Code\n",
    "match = {\"name\": \"Babelgum\"}\n",
    "list(db.companies.find(match, {\"_id\":0, \"name\":1}))"
   ]
  },
  {
   "cell_type": "markdown",
   "metadata": {},
   "source": [
    "### 2. All the companies that have more than 5000 employees. Limit the search to 20 companies and sort them by **number of employees**."
   ]
  },
  {
   "cell_type": "code",
   "execution_count": 8,
   "metadata": {},
   "outputs": [
    {
     "data": {
      "text/plain": [
       "[{'_id': ObjectId('52cdef7c4bab8bd675297d8e'), 'name': 'Facebook'},\n",
       " {'_id': ObjectId('52cdef7c4bab8bd675297d9b'), 'name': 'eBay'},\n",
       " {'_id': ObjectId('52cdef7c4bab8bd675297da2'), 'name': 'Cisco'},\n",
       " {'_id': ObjectId('52cdef7c4bab8bd675297da3'), 'name': 'Yahoo!'},\n",
       " {'_id': ObjectId('52cdef7c4bab8bd675297dba'), 'name': 'Google'},\n",
       " {'_id': ObjectId('52cdef7c4bab8bd675297dc4'), 'name': 'Intel'},\n",
       " {'_id': ObjectId('52cdef7c4bab8bd675297e49'), 'name': 'Nintendo'},\n",
       " {'_id': ObjectId('52cdef7c4bab8bd675297e5d'), 'name': 'Adobe Systems'},\n",
       " {'_id': ObjectId('52cdef7c4bab8bd675297e6f'), 'name': 'Sony'},\n",
       " {'_id': ObjectId('52cdef7c4bab8bd675297e89'), 'name': 'PayPal'},\n",
       " {'_id': ObjectId('52cdef7c4bab8bd675297e8e'),\n",
       "  'name': 'The Walt Disney Company'},\n",
       " {'_id': ObjectId('52cdef7c4bab8bd675297e96'), 'name': 'AOL'},\n",
       " {'_id': ObjectId('52cdef7c4bab8bd675297ea4'), 'name': 'Webkinz'},\n",
       " {'_id': ObjectId('52cdef7c4bab8bd675297ee9'), 'name': 'Sun Microsystems'},\n",
       " {'_id': ObjectId('52cdef7c4bab8bd675297fc2'), 'name': 'Nokia'},\n",
       " {'_id': ObjectId('52cdef7c4bab8bd675297fcb'), 'name': 'Rakuten'},\n",
       " {'_id': ObjectId('52cdef7c4bab8bd67529809d'), 'name': 'Microsoft'},\n",
       " {'_id': ObjectId('52cdef7c4bab8bd675298189'), 'name': 'Apple'},\n",
       " {'_id': ObjectId('52cdef7c4bab8bd6752981b5'), 'name': 'NetApp'},\n",
       " {'_id': ObjectId('52cdef7c4bab8bd67529821b'), 'name': 'Motorola Solutions'}]"
      ]
     },
     "execution_count": 8,
     "metadata": {},
     "output_type": "execute_result"
    }
   ],
   "source": [
    "# Your Code\n",
    "query = {\"number_of_employees\": {\"$gt\" : 5000}}\n",
    "a = list((db.companies.find(query, {\"name\":1})).limit(20))\n",
    "a"
   ]
  },
  {
   "cell_type": "markdown",
   "metadata": {},
   "source": [
    "### 3. All the companies founded between 2000 and 2005, both years included. Retrieve only the `name` and `founded_year` fields."
   ]
  },
  {
   "cell_type": "code",
   "execution_count": 9,
   "metadata": {},
   "outputs": [
    {
     "data": {
      "text/plain": [
       "[{'name': 'Wetpaint', 'founded_year': 2005},\n",
       " {'name': 'Zoho', 'founded_year': 2005},\n",
       " {'name': 'Digg', 'founded_year': 2004},\n",
       " {'name': 'Facebook', 'founded_year': 2004},\n",
       " {'name': 'Omnidrive', 'founded_year': 2005}]"
      ]
     },
     "execution_count": 9,
     "metadata": {},
     "output_type": "execute_result"
    }
   ],
   "source": [
    "# Your Code\n",
    "query3 = {'founded_year' : { '$gt' : 1999 , '$lt' : 2006 }}\n",
    "\n",
    "c = list(db.companies.find(query3, {\"_id\":0,\"name\": 1, 'founded_year': 1}))\n",
    "c[:5]"
   ]
  },
  {
   "cell_type": "markdown",
   "metadata": {},
   "source": [
    "### 4. All the companies that had a Valuation Amount of more than 100.000.000 and have been founded before 2010. Retrieve only the `name` and `ipo` fields."
   ]
  },
  {
   "cell_type": "code",
   "execution_count": 10,
   "metadata": {},
   "outputs": [
    {
     "data": {
      "text/plain": [
       "[{'name': 'Facebook',\n",
       "  'ipo': {'valuation_amount': 104000000000,\n",
       "   'valuation_currency_code': 'USD',\n",
       "   'pub_year': 2012,\n",
       "   'pub_month': 5,\n",
       "   'pub_day': 18,\n",
       "   'stock_symbol': 'NASDAQ:FB'}},\n",
       " {'name': 'Twitter',\n",
       "  'ipo': {'valuation_amount': 18100000000,\n",
       "   'valuation_currency_code': 'USD',\n",
       "   'pub_year': 2013,\n",
       "   'pub_month': 11,\n",
       "   'pub_day': 7,\n",
       "   'stock_symbol': 'NYSE:TWTR'}},\n",
       " {'name': 'Yelp',\n",
       "  'ipo': {'valuation_amount': 1300000000,\n",
       "   'valuation_currency_code': 'USD',\n",
       "   'pub_year': 2012,\n",
       "   'pub_month': 3,\n",
       "   'pub_day': 2,\n",
       "   'stock_symbol': 'NYSE:YELP'}},\n",
       " {'name': 'LinkedIn',\n",
       "  'ipo': {'valuation_amount': 9310000000,\n",
       "   'valuation_currency_code': 'USD',\n",
       "   'pub_year': 2011,\n",
       "   'pub_month': 7,\n",
       "   'pub_day': 20,\n",
       "   'stock_symbol': 'NYSE:LNKD'}},\n",
       " {'name': 'Amazon',\n",
       "  'ipo': {'valuation_amount': 100000000000,\n",
       "   'valuation_currency_code': 'USD',\n",
       "   'pub_year': 1997,\n",
       "   'pub_month': 5,\n",
       "   'pub_day': None,\n",
       "   'stock_symbol': 'NASDAQ:AMZN'}}]"
      ]
     },
     "execution_count": 10,
     "metadata": {},
     "output_type": "execute_result"
    }
   ],
   "source": [
    "# Your Code\n",
    "query4 = {'$and':[{\"ipo.valuation_amount\": {'$gt': 10000000}}, {'founded_year': {'$lt': 2010}}]}\n",
    "b = list(db.companies.find(query4, {\"_id\":0,\"name\": 1, \"ipo\": 1}))\n",
    "b[:5]"
   ]
  },
  {
   "cell_type": "markdown",
   "metadata": {},
   "source": [
    "### 5. All the companies that have less than 1000 employees and have been founded before 2005. Order them by the number of employees and limit the search to 10 companies."
   ]
  },
  {
   "cell_type": "code",
   "execution_count": 14,
   "metadata": {},
   "outputs": [
    {
     "name": "stdout",
     "output_type": "stream",
     "text": [
      "[{'name': 'Mobiluck'}, {'name': 'Twitter'}, {'name': 'Veeam Software'}, {'name': 'WJT Global Solutions'}, {'name': 'Spotify'}, {'name': 'Groupon'}, {'name': 'Gemalto'}, {'name': 'Thomson Reuters'}, {'name': 'Thomson Reuters'}]\n"
     ]
    }
   ],
   "source": [
    "# Your Code\n",
    "query5 = {'$and':[{'number_of_employees': {'$gt': 1000}}, {'founded_year': {'$gt': 2005}}]}\n",
    "\n",
    "c = list((db.companies.find(query5, {\"_id\":0,\"name\": 1})).sort([('number_of_employees', 1)]).limit(10))\n",
    "print(c)"
   ]
  },
  {
   "cell_type": "markdown",
   "metadata": {},
   "source": [
    "### 6. All the companies that don't include the `partners` field."
   ]
  },
  {
   "cell_type": "code",
   "execution_count": 17,
   "metadata": {},
   "outputs": [],
   "source": [
    "# Your Code\n",
    "d = list(db.companies.find( { 'partners': { '$exists': False } } )) #devuelve todo lo que tiene partners aunque este vacio\n",
    "d_d = list(db.companies.find( { 'partners': { '$size': 0 } } ))# devuelve solo los que partner tiene algo dentro"
   ]
  },
  {
   "cell_type": "markdown",
   "metadata": {},
   "source": [
    "### 7. All the companies that have a null type of value on the `category_code` field."
   ]
  },
  {
   "cell_type": "code",
   "execution_count": 18,
   "metadata": {},
   "outputs": [
    {
     "data": {
      "text/plain": [
       "{'name': 'Collective',\n",
       " 'permalink': 'collective',\n",
       " 'crunchbase_url': 'http://www.crunchbase.com/company/collective',\n",
       " 'homepage_url': None,\n",
       " 'blog_url': None,\n",
       " 'blog_feed_url': None,\n",
       " 'twitter_username': None,\n",
       " 'category_code': None,\n",
       " 'number_of_employees': None,\n",
       " 'founded_year': None,\n",
       " 'founded_month': None,\n",
       " 'founded_day': None,\n",
       " 'deadpooled_year': None,\n",
       " 'deadpooled_month': None,\n",
       " 'deadpooled_day': None,\n",
       " 'deadpooled_url': None,\n",
       " 'tag_list': None,\n",
       " 'alias_list': None,\n",
       " 'email_address': None,\n",
       " 'phone_number': None,\n",
       " 'description': None,\n",
       " 'created_at': 'Thu Sep 26 13:15:02 UTC 2013',\n",
       " 'updated_at': 'Thu Sep 26 13:15:02 UTC 2013',\n",
       " 'overview': None,\n",
       " 'image': None,\n",
       " 'products': [],\n",
       " 'relationships': [],\n",
       " 'competitions': [],\n",
       " 'providerships': [],\n",
       " 'total_money_raised': '$0',\n",
       " 'funding_rounds': [],\n",
       " 'investments': [],\n",
       " 'acquisition': None,\n",
       " 'acquisitions': [],\n",
       " 'offices': [],\n",
       " 'milestones': [],\n",
       " 'ipo': None,\n",
       " 'video_embeds': [],\n",
       " 'screenshots': [],\n",
       " 'external_links': [],\n",
       " 'partners': []}"
      ]
     },
     "execution_count": 18,
     "metadata": {},
     "output_type": "execute_result"
    }
   ],
   "source": [
    "# Your Code\n",
    "query7 = {'category_code': None}\n",
    "\n",
    "e = list(db.companies.find(query7, {\"_id\":0}))\n",
    "e[0]"
   ]
  },
  {
   "cell_type": "markdown",
   "metadata": {},
   "source": [
    "### 8. All the companies that have at least 100 employees but less than 1000. Retrieve only the `name` and `number of employees` fields."
   ]
  },
  {
   "cell_type": "code",
   "execution_count": 19,
   "metadata": {},
   "outputs": [
    {
     "data": {
      "text/plain": [
       "[{'name': 'AdventNet', 'number_of_employees': 600},\n",
       " {'name': 'AddThis', 'number_of_employees': 120},\n",
       " {'name': 'OpenX', 'number_of_employees': 305},\n",
       " {'name': 'LifeLock', 'number_of_employees': 644},\n",
       " {'name': 'Jajah', 'number_of_employees': 110}]"
      ]
     },
     "execution_count": 19,
     "metadata": {},
     "output_type": "execute_result"
    }
   ],
   "source": [
    "# Your Code\n",
    "query8 = {'number_of_employees' : { '$gt' : 100 , '$lt' : 1000 }}\n",
    "\n",
    "f = list(db.companies.find(query8, {\"_id\":0,\"name\": 1, 'number_of_employees': 1}))\n",
    "f[:5]"
   ]
  },
  {
   "cell_type": "markdown",
   "metadata": {},
   "source": [
    "### 9. Order all the companies by their IPO price in a descending order."
   ]
  },
  {
   "cell_type": "code",
   "execution_count": 48,
   "metadata": {},
   "outputs": [
    {
     "data": {
      "text/plain": [
       "[{'name': 'GREE', 'ipo': {'valuation_amount': 108960000000}},\n",
       " {'name': 'Facebook', 'ipo': {'valuation_amount': 104000000000}},\n",
       " {'name': 'Amazon', 'ipo': {'valuation_amount': 100000000000}},\n",
       " {'name': 'Twitter', 'ipo': {'valuation_amount': 18100000000}},\n",
       " {'name': 'Groupon', 'ipo': {'valuation_amount': 12800000000}}]"
      ]
     },
     "execution_count": 48,
     "metadata": {},
     "output_type": "execute_result"
    }
   ],
   "source": [
    "# Your Code\n",
    "query9 = {\"_id\": 0, \"name\": 1, \"ipo.valuation_amount\": 1}\n",
    "g = list(db.companies.find({} , query9).sort(\"ipo.valuation_amount\", -1))\n",
    "g[:5]"
   ]
  },
  {
   "cell_type": "markdown",
   "metadata": {},
   "source": [
    "### 10. Retrieve the 10 companies with more employees, order by the `number of employees`"
   ]
  },
  {
   "cell_type": "code",
   "execution_count": 24,
   "metadata": {},
   "outputs": [
    {
     "name": "stdout",
     "output_type": "stream",
     "text": [
      "405000\n",
      "388000\n",
      "320000\n",
      "300000\n",
      "227000\n"
     ]
    }
   ],
   "source": [
    "# Your Code\n",
    "h = list(db.companies.find().sort([('number_of_employees',-1)]).limit(10))\n",
    "print(h[0]['number_of_employees'])\n",
    "print(h[1]['number_of_employees'])\n",
    "print(h[2]['number_of_employees'])\n",
    "print(h[3]['number_of_employees'])\n",
    "print(h[4]['number_of_employees'])"
   ]
  },
  {
   "cell_type": "markdown",
   "metadata": {},
   "source": [
    "### 11. All the companies founded on the second semester of the year. Limit your search to 1000 companies."
   ]
  },
  {
   "cell_type": "code",
   "execution_count": 32,
   "metadata": {},
   "outputs": [
    {
     "data": {
      "text/plain": [
       "[{'name': 'Wetpaint', 'founded_month': 10},\n",
       " {'name': 'Zoho', 'founded_month': 9},\n",
       " {'name': 'Digg', 'founded_month': 10},\n",
       " {'name': 'Omnidrive', 'founded_month': 11},\n",
       " {'name': 'Postini', 'founded_month': 6}]"
      ]
     },
     "execution_count": 32,
     "metadata": {},
     "output_type": "execute_result"
    }
   ],
   "source": [
    "# Your Code\n",
    "query6 =  {'founded_month': {'$gt': 5}}\n",
    "e = list((db.companies.find(query6, {\"_id\":0, 'name':1, 'founded_month': 1})).limit(1000))\n",
    "e[:5]"
   ]
  },
  {
   "cell_type": "markdown",
   "metadata": {},
   "source": [
    "### 12. All the companies founded before 2000 that have an acquisition amount of more than 10.000.00"
   ]
  },
  {
   "cell_type": "code",
   "execution_count": 35,
   "metadata": {},
   "outputs": [
    {
     "data": {
      "text/plain": [
       "[{'founded_year': 2005, 'acquisition': {'price_amount': 30000000}},\n",
       " {'founded_year': 2002, 'acquisition': {'price_amount': 29000000}},\n",
       " {'founded_year': 2005, 'acquisition': {'price_amount': 39000000}},\n",
       " {'founded_year': 2002, 'acquisition': {'price_amount': 150000000}},\n",
       " {'founded_year': 2006, 'acquisition': {'price_amount': 100000000}}]"
      ]
     },
     "execution_count": 35,
     "metadata": {},
     "output_type": "execute_result"
    }
   ],
   "source": [
    "# Your Code\n",
    "query12 = {'$and': [{\"acquisition.price_amount\":  {'$gt': 1000000}},{'founded_year': {'$gt': 2000}}]}\n",
    "f = list(db.companies.find(query12, {\"_id\":0, 'acquisition.price_amount': 1, 'founded_year': 1}))\n",
    "f[:5]"
   ]
  },
  {
   "cell_type": "markdown",
   "metadata": {},
   "source": [
    "### 13. All the companies that have been acquired after 2010, order by the acquisition amount, and retrieve only their `name` and `acquisition` field."
   ]
  },
  {
   "cell_type": "code",
   "execution_count": 36,
   "metadata": {},
   "outputs": [
    {
     "name": "stdout",
     "output_type": "stream",
     "text": [
      "Wetpaint\n",
      "Digg\n",
      "Geni\n",
      "Kyte\n",
      "Jingle Networks\n"
     ]
    }
   ],
   "source": [
    "# Your Code\n",
    "query13 = {\"acquisition.acquired_year\": {'$gt': 2010}}\n",
    "project13 = {'name':1, 'acquisition': 1, \"_id\":0}\n",
    "g = list(db.companies.find (query13, project13))\n",
    "print(g[0]['name'])\n",
    "print(g[1]['name'])\n",
    "print(g[2]['name'])\n",
    "print(g[3]['name'])\n",
    "print(g[4]['name'])"
   ]
  },
  {
   "cell_type": "markdown",
   "metadata": {},
   "source": [
    "### 14. Order the companies by their `founded year`, retrieving only their `name` and `founded year`."
   ]
  },
  {
   "cell_type": "code",
   "execution_count": 37,
   "metadata": {},
   "outputs": [
    {
     "data": {
      "text/plain": [
       "[]"
      ]
     },
     "execution_count": 37,
     "metadata": {},
     "output_type": "execute_result"
    }
   ],
   "source": [
    "# Your Code\n",
    "h = list((db.companies.find({\"name\": 1, \"founded_year\": 1, \"_id\":0})).sort([('founded_year', 1)]))\n",
    "h"
   ]
  },
  {
   "cell_type": "markdown",
   "metadata": {},
   "source": [
    "### 15. All the companies that have been founded on the first seven days of the month, including the seventh. Sort them by their `acquisition price` in a descending order. Limit the search to 10 documents."
   ]
  },
  {
   "cell_type": "code",
   "execution_count": 38,
   "metadata": {},
   "outputs": [
    {
     "name": "stdout",
     "output_type": "stream",
     "text": [
      "Netscape\n",
      "PayPal\n",
      "Zappos\n",
      "Alibaba\n",
      "Postini\n"
     ]
    }
   ],
   "source": [
    "# Your Code\n",
    "query15 = {'founded_day': {'$lt': 8}}\n",
    "i = list((db.companies.find (query15, {\"_id\":0})).sort([('acquisition.price_amount', -1)]).limit(10))\n",
    "print(i[0]['name'])\n",
    "print(i[1]['name'])\n",
    "print(i[2]['name'])\n",
    "print(i[3]['name'])\n",
    "print(i[4]['name'])"
   ]
  },
  {
   "cell_type": "markdown",
   "metadata": {},
   "source": [
    "### 16. All the companies on the 'web' `category` that have more than 4000 employees. Sort them by the amount of employees in ascending order."
   ]
  },
  {
   "cell_type": "code",
   "execution_count": 41,
   "metadata": {},
   "outputs": [
    {
     "data": {
      "text/plain": [
       "[{'category_code': 'web', 'number_of_employees': 4400},\n",
       " {'category_code': 'web', 'number_of_employees': 8000},\n",
       " {'category_code': 'web', 'number_of_employees': 8657},\n",
       " {'category_code': 'web', 'number_of_employees': 10000},\n",
       " {'category_code': 'web', 'number_of_employees': 10000},\n",
       " {'category_code': 'web', 'number_of_employees': 10000},\n",
       " {'category_code': 'web', 'number_of_employees': 13600},\n",
       " {'category_code': 'web', 'number_of_employees': 15000},\n",
       " {'category_code': 'web', 'number_of_employees': 15500}]"
      ]
     },
     "execution_count": 41,
     "metadata": {},
     "output_type": "execute_result"
    }
   ],
   "source": [
    "# Your Code\n",
    "query16 = {'$and': [{'category_code': 'web'}, {'number_of_employees': {'$gt': 4000}}]}\n",
    "k = list(db.companies.find (query16, {\"_id\":0, 'category_code':1, 'number_of_employees':1 }).sort('number_of_employees', 1))\n",
    "k"
   ]
  },
  {
   "cell_type": "markdown",
   "metadata": {},
   "source": [
    "### 17. All the companies whose acquisition amount is more than 10.000.000, and currency is 'EUR'."
   ]
  },
  {
   "cell_type": "code",
   "execution_count": 42,
   "metadata": {},
   "outputs": [
    {
     "data": {
      "text/plain": [
       "{'name': 'Apertio',\n",
       " 'permalink': 'apertio',\n",
       " 'crunchbase_url': 'http://www.crunchbase.com/company/apertio',\n",
       " 'homepage_url': 'http://www.apertio.com',\n",
       " 'blog_url': '',\n",
       " 'blog_feed_url': '',\n",
       " 'twitter_username': None,\n",
       " 'category_code': 'mobile',\n",
       " 'number_of_employees': None,\n",
       " 'founded_year': None,\n",
       " 'founded_month': None,\n",
       " 'founded_day': None,\n",
       " 'deadpooled_year': None,\n",
       " 'deadpooled_month': None,\n",
       " 'deadpooled_day': None,\n",
       " 'deadpooled_url': None,\n",
       " 'tag_list': '',\n",
       " 'alias_list': None,\n",
       " 'email_address': '',\n",
       " 'phone_number': '',\n",
       " 'description': None,\n",
       " 'created_at': 'Tue May 27 07:08:56 UTC 2008',\n",
       " 'updated_at': 'Fri Aug 28 23:39:22 UTC 2009',\n",
       " 'overview': '<p>Apertio One provides a single, open, subscriber-centric architecture for current and new generation operators. It aims to eliminate complexity and cost, dramatically reduce new service deployment time, and lay the foundation for IMS in networks.</p>',\n",
       " 'image': {'available_sizes': [[[150, 41],\n",
       "    'assets/images/resized/0001/9431/19431v1-max-150x150.png'],\n",
       "   [[197, 54], 'assets/images/resized/0001/9431/19431v1-max-250x250.png'],\n",
       "   [[197, 54], 'assets/images/resized/0001/9431/19431v1-max-450x450.png']],\n",
       "  'attribution': None},\n",
       " 'products': [],\n",
       " 'relationships': [{'is_past': True,\n",
       "   'title': 'VP Business Development',\n",
       "   'person': {'first_name': 'Wolfgang',\n",
       "    'last_name': 'Krause',\n",
       "    'permalink': 'wolfgang-krause'}},\n",
       "  {'is_past': True,\n",
       "   'title': 'Non-Exec Board Director',\n",
       "   'person': {'first_name': 'Cyril',\n",
       "    'last_name': 'Bertrand',\n",
       "    'permalink': 'cyril-bertrand'}}],\n",
       " 'competitions': [],\n",
       " 'providerships': [],\n",
       " 'total_money_raised': '$30M',\n",
       " 'funding_rounds': [{'id': 2405,\n",
       "   'round_code': 'b',\n",
       "   'source_url': 'http://www.apertio.com/news-and-events/press-release/1212',\n",
       "   'source_description': '',\n",
       "   'raised_amount': 30000000,\n",
       "   'raised_currency_code': 'USD',\n",
       "   'funded_year': 2006,\n",
       "   'funded_month': 2,\n",
       "   'funded_day': 6,\n",
       "   'investments': [{'company': None,\n",
       "     'financial_org': {'name': 'Add Partners', 'permalink': 'add-partners'},\n",
       "     'person': None},\n",
       "    {'company': None,\n",
       "     'financial_org': {'name': 'Deutsche Venture Capital',\n",
       "      'permalink': 'deutsche-venture-capital'},\n",
       "     'person': None},\n",
       "    {'company': None,\n",
       "     'financial_org': {'name': 'Eden Ventures', 'permalink': 'eden-ventures'},\n",
       "     'person': None},\n",
       "    {'company': None,\n",
       "     'financial_org': {'name': 'Motorola Solutions Venture Capital',\n",
       "      'permalink': 'motorola-solutions-venture-capital'},\n",
       "     'person': None},\n",
       "    {'company': None,\n",
       "     'financial_org': {'name': 'The Tokarz Group',\n",
       "      'permalink': 'the-tokarz-group'},\n",
       "     'person': None},\n",
       "    {'company': None,\n",
       "     'financial_org': {'name': 'T-Venture', 'permalink': 't-venture'},\n",
       "     'person': None}]}],\n",
       " 'investments': [],\n",
       " 'acquisition': {'price_amount': 140000000,\n",
       "  'price_currency_code': 'EUR',\n",
       "  'term_code': None,\n",
       "  'source_url': 'http://www.techcrunch.com/2008/01/03/nokia-siemens-acquires-apertio-for-e140m/',\n",
       "  'source_description': 'Nokia Siemens Acquires Apertio For â‚¬140m',\n",
       "  'acquired_year': 2008,\n",
       "  'acquired_month': 1,\n",
       "  'acquired_day': 3,\n",
       "  'acquiring_company': {'name': 'Nokia Siemens Networks',\n",
       "   'permalink': 'nokia-siemens-networks'}},\n",
       " 'acquisitions': [],\n",
       " 'offices': [{'description': None,\n",
       "   'address1': '',\n",
       "   'address2': '',\n",
       "   'zip_code': 'BS16 7AR',\n",
       "   'city': 'Bristol',\n",
       "   'state_code': None,\n",
       "   'country_code': 'GBR',\n",
       "   'latitude': 51.499708,\n",
       "   'longitude': -2.533334}],\n",
       " 'milestones': [],\n",
       " 'ipo': None,\n",
       " 'video_embeds': [],\n",
       " 'screenshots': [],\n",
       " 'external_links': [],\n",
       " 'partners': []}"
      ]
     },
     "execution_count": 42,
     "metadata": {},
     "output_type": "execute_result"
    }
   ],
   "source": [
    "# Your Code\n",
    "query17 = {'$and': [{\"acquisition.price_currency_code\": 'EUR'}, {\"acquisition.price_amount\": {'$gt': 10000000}}]}\n",
    "l = list(db.companies.find (query17, {\"_id\":0}))\n",
    "l[1]"
   ]
  },
  {
   "cell_type": "markdown",
   "metadata": {},
   "source": [
    "### 18. All the companies that have been acquired on the first trimester of the year. Limit the search to 10 companies, and retrieve only their `name` and `acquisition` fields."
   ]
  },
  {
   "cell_type": "code",
   "execution_count": 43,
   "metadata": {},
   "outputs": [
    {
     "data": {
      "text/plain": [
       "[{'name': 'Kyte',\n",
       "  'acquisition': {'price_amount': None,\n",
       "   'price_currency_code': 'USD',\n",
       "   'term_code': None,\n",
       "   'source_url': 'http://techcrunch.com/2011/01/31/exclusive-kit-digital-acquires-kickapps-kewego-and-kyte-for-77-2-million/',\n",
       "   'source_description': 'KIT digital Acquires KickApps, Kewego AND Kyte For $77.2 Million',\n",
       "   'acquired_year': 2011,\n",
       "   'acquired_month': 1,\n",
       "   'acquired_day': 31,\n",
       "   'acquiring_company': {'name': 'KIT digital', 'permalink': 'kit-digital'}}},\n",
       " {'name': 'NetRatings',\n",
       "  'acquisition': {'price_amount': 327000000,\n",
       "   'price_currency_code': 'USD',\n",
       "   'term_code': 'cash',\n",
       "   'source_url': 'http://login.vnuemedia.com/hr/login/login_subscribe.jsp?id=0oqDem1gYIfIclz9i2%2Ffqj5NxCp2AC5DPbVnyT2da8GyV2mXjasabE128n69OrmcAh52%2FGE3pSG%2F%0AEKRYD9vh9EhrJrxukmUzh532fSMTZXL42gwPB80UWVtF1NwJ5UZSM%2BCkLU1mpYBoHFgiH%2Fi0f6Ax%0A9yMIVxt47t%2BHamhEQ0nkOEK24L',\n",
       "   'source_description': 'Nielsen buys rest of NetRatings',\n",
       "   'acquired_year': 2007,\n",
       "   'acquired_month': 2,\n",
       "   'acquired_day': None,\n",
       "   'acquiring_company': {'name': 'Nielsen', 'permalink': 'nielsen'}}}]"
      ]
     },
     "execution_count": 43,
     "metadata": {},
     "output_type": "execute_result"
    }
   ],
   "source": [
    "# Your Code\n",
    "query18 = {'acquisition.acquired_month': {'$lt': 3}}\n",
    "project18 = {'name' : 1, 'acquisition':1, \"_id\":0}\n",
    "m = list((db.companies.find (query18, project18)).limit(10))\n",
    "m[:2]"
   ]
  },
  {
   "cell_type": "markdown",
   "metadata": {},
   "source": [
    "# Bonus\n",
    "### 19. All the companies that have been founded between 2000 and 2010, but have not been acquired before 2011."
   ]
  },
  {
   "cell_type": "code",
   "execution_count": 47,
   "metadata": {},
   "outputs": [
    {
     "data": {
      "text/plain": [
       "[{'founded_year': 2002, 'acquisition': {'acquired_year': 2009}},\n",
       " {'founded_year': 2003, 'acquisition': {'acquired_year': 2009}},\n",
       " {'founded_year': 2005, 'acquisition': {'acquired_year': 2008}},\n",
       " {'founded_year': 2006, 'acquisition': {'acquired_year': 2009}},\n",
       " {'founded_year': 2002, 'acquisition': {'acquired_year': 2008}}]"
      ]
     },
     "execution_count": 47,
     "metadata": {},
     "output_type": "execute_result"
    }
   ],
   "source": [
    "# Your Code\n",
    "query19 = {'$and':[{\"acquisition.acquired_year\": {'$lt': 2011}}, {'founded_year': { '$gt' : 1999 , '$lt' : 2010 }}]}\n",
    "n = list(db.companies.find (query19, {\"_id\":0, \"acquisition.acquired_year\":1,'founded_year':1}))\n",
    "n[:5]"
   ]
  },
  {
   "cell_type": "markdown",
   "metadata": {},
   "source": [
    "### 20. All the companies that have been 'deadpooled' after the third year."
   ]
  },
  {
   "cell_type": "code",
   "execution_count": null,
   "metadata": {},
   "outputs": [],
   "source": [
    "# Your Code\n",
    "y = list(db.test.companies.aggregate([{ '$project': { 'deadpooled_year': 1, 'deadpooled_year':1, 'differ': { '$subtract': [ \"$deadpooled_year\", \"$deadpooled_year\" ] } } } ] ))"
   ]
  },
  {
   "cell_type": "code",
   "execution_count": 71,
   "metadata": {},
   "outputs": [
    {
     "data": {
      "text/plain": [
       "[{'_id': ObjectId('52cdef7c4bab8bd675297d8f'), 'difference': 3},\n",
       " {'_id': ObjectId('52cdef7c4bab8bd675297d90'), 'difference': None},\n",
       " {'_id': ObjectId('52cdef7c4bab8bd675297d91'), 'difference': None},\n",
       " {'_id': ObjectId('52cdef7c4bab8bd675297d92'), 'difference': None},\n",
       " {'_id': ObjectId('52cdef7c4bab8bd675297d93'), 'difference': None},\n",
       " {'_id': ObjectId('52cdef7c4bab8bd675297d94'), 'difference': None},\n",
       " {'_id': ObjectId('52cdef7c4bab8bd675297d95'), 'difference': None},\n",
       " {'_id': ObjectId('52cdef7c4bab8bd675297d96'), 'difference': None},\n",
       " {'_id': ObjectId('52cdef7c4bab8bd675297d97'), 'difference': None},\n",
       " {'_id': ObjectId('52cdef7c4bab8bd675297d98'), 'difference': None},\n",
       " {'_id': ObjectId('52cdef7c4bab8bd675297d99'), 'difference': None},\n",
       " {'_id': ObjectId('52cdef7c4bab8bd675297d9a'), 'difference': None},\n",
       " {'_id': ObjectId('52cdef7c4bab8bd675297d9b'), 'difference': None},\n",
       " {'_id': ObjectId('52cdef7c4bab8bd675297d9c'), 'difference': None},\n",
       " {'_id': ObjectId('52cdef7c4bab8bd675297d9d'), 'difference': None},\n",
       " {'_id': ObjectId('52cdef7c4bab8bd675297d9e'), 'difference': None},\n",
       " {'_id': ObjectId('52cdef7c4bab8bd675297d9f'), 'difference': None},\n",
       " {'_id': ObjectId('52cdef7c4bab8bd675297da0'), 'difference': 6},\n",
       " {'_id': ObjectId('52cdef7c4bab8bd675297da1'), 'difference': None},\n",
       " {'_id': ObjectId('52cdef7c4bab8bd675297da2'), 'difference': None},\n",
       " {'_id': ObjectId('52cdef7c4bab8bd675297da3'), 'difference': None},\n",
       " {'_id': ObjectId('52cdef7c4bab8bd675297da4'), 'difference': None},\n",
       " {'_id': ObjectId('52cdef7c4bab8bd675297da5'), 'difference': None},\n",
       " {'_id': ObjectId('52cdef7c4bab8bd675297da6'), 'difference': None},\n",
       " {'_id': ObjectId('52cdef7c4bab8bd675297da7'), 'difference': None}]"
      ]
     },
     "execution_count": 71,
     "metadata": {},
     "output_type": "execute_result"
    }
   ],
   "source": [
    "dif = list(db.companies.aggregate( [ { '$project': {'difference': { '$subtract': [ \"$deadpooled_year\", \"$founded_year\" ] } } } ] ))\n",
    "dif[5:30]"
   ]
  },
  {
   "cell_type": "code",
   "execution_count": 67,
   "metadata": {},
   "outputs": [
    {
     "data": {
      "text/plain": [
       "[]"
      ]
     },
     "execution_count": 67,
     "metadata": {},
     "output_type": "execute_result"
    }
   ],
   "source": [
    "p = list(db.dif.find ({\"difference\":{'$lt': 3}}))\n",
    "p"
   ]
  },
  {
   "cell_type": "code",
   "execution_count": null,
   "metadata": {},
   "outputs": [],
   "source": [
    "y hasta aqui he llegado, no sé por donde seguir..."
   ]
  }
 ],
 "metadata": {
  "kernelspec": {
   "display_name": "Python 3",
   "language": "python",
   "name": "python3"
  },
  "language_info": {
   "codemirror_mode": {
    "name": "ipython",
    "version": 3
   },
   "file_extension": ".py",
   "mimetype": "text/x-python",
   "name": "python",
   "nbconvert_exporter": "python",
   "pygments_lexer": "ipython3",
   "version": "3.6.5"
  },
  "toc": {
   "base_numbering": 1,
   "nav_menu": {},
   "number_sections": true,
   "sideBar": true,
   "skip_h1_title": false,
   "title_cell": "Table of Contents",
   "title_sidebar": "Contents",
   "toc_cell": false,
   "toc_position": {},
   "toc_section_display": true,
   "toc_window_display": false
  },
  "varInspector": {
   "cols": {
    "lenName": 16,
    "lenType": 16,
    "lenVar": 40
   },
   "kernels_config": {
    "python": {
     "delete_cmd_postfix": "",
     "delete_cmd_prefix": "del ",
     "library": "var_list.py",
     "varRefreshCmd": "print(var_dic_list())"
    },
    "r": {
     "delete_cmd_postfix": ") ",
     "delete_cmd_prefix": "rm(",
     "library": "var_list.r",
     "varRefreshCmd": "cat(var_dic_list()) "
    }
   },
   "position": {
    "height": "278px",
    "left": "1215px",
    "right": "20px",
    "top": "100px",
    "width": "350px"
   },
   "types_to_exclude": [
    "module",
    "function",
    "builtin_function_or_method",
    "instance",
    "_Feature"
   ],
   "window_display": false
  }
 },
 "nbformat": 4,
 "nbformat_minor": 2
}
