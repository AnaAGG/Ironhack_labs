{
 "cells": [
  {
   "cell_type": "markdown",
   "metadata": {},
   "source": [
    "# Web Scraping Lab\n",
    "\n",
    "You will find in this notebook some web scraping exercises to practice your scraping skills using `requests` and `Beautiful Soup`.\n",
    "\n",
    "**Tips:**\n",
    "\n",
    "- Check the [response status code](https://http.cat/) for each request to ensure you have obtained the intended content.\n",
    "- Look at the HTML code in each request to understand the kind of info you are getting and its format.\n",
    "- Check for patterns in the response text to extract the data/info requested in each question.\n",
    "- Visit each url and take a look at its source through Chrome DevTools. You'll need to identify the html tags, special class names etc. used for the html content you are expected to extract.\n",
    "- Check out the css selectors."
   ]
  },
  {
   "cell_type": "markdown",
   "metadata": {},
   "source": [
    "### Useful Resources\n",
    "- [Requests library](http://docs.python-requests.org/en/master/#the-user-guide) documentation \n",
    "- [Beautiful Soup Doc](https://www.crummy.com/software/BeautifulSoup/bs4/doc/)\n",
    "- [List of HTTP status codes](https://en.wikipedia.org/wiki/List_of_HTTP_status_codes)\n",
    "- [HTML basics](http://www.simplehtmlguide.com/cheatsheet.php)\n",
    "- [CSS basics](https://www.cssbasics.com/#page_start)"
   ]
  },
  {
   "cell_type": "markdown",
   "metadata": {},
   "source": [
    "#### First of all, gathering our tools."
   ]
  },
  {
   "cell_type": "code",
   "execution_count": 1,
   "metadata": {},
   "outputs": [],
   "source": [
    "import requests\n",
    "from bs4 import BeautifulSoup\n",
    "import pandas as pd\n",
    "import json"
   ]
  },
  {
   "cell_type": "markdown",
   "metadata": {},
   "source": [
    "⚠️ **Again, please remember to limit your output before submission so that your code doesn't get lost in the output.**"
   ]
  },
  {
   "cell_type": "markdown",
   "metadata": {},
   "source": [
    "#### Challenge 1 - Download, parse (using BeautifulSoup), and print the content from the Trending Developers page from GitHub:"
   ]
  },
  {
   "cell_type": "code",
   "execution_count": 2,
   "metadata": {},
   "outputs": [],
   "source": [
    "# This is the url you will scrape in this exercise\n",
    "url = 'https://github.com/trending/developers'"
   ]
  },
  {
   "cell_type": "code",
   "execution_count": 3,
   "metadata": {},
   "outputs": [],
   "source": [
    "response1 = requests.get(url)\n",
    "response1.status_code\n",
    "\n",
    "soup1 = BeautifulSoup(response1.content)"
   ]
  },
  {
   "cell_type": "markdown",
   "metadata": {},
   "source": [
    "#### Display the names of the trending developers retrieved in the previous step.\n",
    "\n",
    "Your output should be a Python list of developer names. Each name should not contain any html tag.\n",
    "\n",
    "**Instructions:**\n",
    "\n",
    "1. Find out the html tag and class names used for the developer names. You can achieve this using Chrome DevTools.\n",
    "\n",
    "1. Use BeautifulSoup to extract all the html elements that contain the developer names.\n",
    "\n",
    "1. Use string manipulation techniques to replace whitespaces and linebreaks (i.e. `\\n`) in the *text* of each html element. Use a list to store the clean names.\n",
    "\n",
    "1. Print the list of names.\n",
    "\n",
    "Your output should look like below (with different names):\n",
    "\n",
    "```\n",
    "['trimstray (@trimstray)',\n",
    " 'joewalnes (JoeWalnes)',\n",
    " 'charlax (Charles-AxelDein)',\n",
    " 'ForrestKnight (ForrestKnight)',\n",
    " 'revery-ui (revery-ui)',\n",
    " 'alibaba (Alibaba)',\n",
    " 'Microsoft (Microsoft)',\n",
    " 'github (GitHub)',\n",
    " 'facebook (Facebook)',\n",
    " 'boazsegev (Bo)',\n",
    " 'google (Google)',\n",
    " 'cloudfetch',\n",
    " 'sindresorhus (SindreSorhus)',\n",
    " 'tensorflow',\n",
    " 'apache (TheApacheSoftwareFoundation)',\n",
    " 'DevonCrawford (DevonCrawford)',\n",
    " 'ARMmbed (ArmMbed)',\n",
    " 'vuejs (vuejs)',\n",
    " 'fastai (fast.ai)',\n",
    " 'QiShaoXuan (Qi)',\n",
    " 'joelparkerhenderson (JoelParkerHenderson)',\n",
    " 'torvalds (LinusTorvalds)',\n",
    " 'CyC2018',\n",
    " 'komeiji-satori (神楽坂覚々)',\n",
    " 'script-8']\n",
    " ```"
   ]
  },
  {
   "cell_type": "code",
   "execution_count": 4,
   "metadata": {},
   "outputs": [],
   "source": [
    "developers = soup1.find_all('h1', attrs={'class':'h3 lh-condensed'})\n",
    "developers[0]\n",
    "\n",
    "name_developers = []"
   ]
  },
  {
   "cell_type": "code",
   "execution_count": 5,
   "metadata": {},
   "outputs": [
    {
     "data": {
      "text/plain": [
       "['Michele Locati', 'Han Xiao', 'Alon Zakai', 'Ha Thach', 'Joel Arvidsson']"
      ]
     },
     "execution_count": 5,
     "metadata": {},
     "output_type": "execute_result"
    }
   ],
   "source": [
    "for dep in developers:\n",
    "    name_developers.append(dep.text.strip())\n",
    "name_developers[:5]"
   ]
  },
  {
   "cell_type": "markdown",
   "metadata": {},
   "source": [
    "####  Challenge 2 - Display the trending Python repositories in GitHub\n",
    "\n",
    "The steps to solve this problem is similar to the previous one except that you need to find out the repository names instead of developer names."
   ]
  },
  {
   "cell_type": "code",
   "execution_count": 6,
   "metadata": {},
   "outputs": [],
   "source": [
    "# This is the url you will scrape in this exercise\n",
    "url = 'https://github.com/trending/python?since=daily'"
   ]
  },
  {
   "cell_type": "code",
   "execution_count": 7,
   "metadata": {},
   "outputs": [],
   "source": [
    "response2 = requests.get(url)\n",
    "response2.status_code\n",
    "soup2 = BeautifulSoup(response2.content) \n"
   ]
  },
  {
   "cell_type": "code",
   "execution_count": 8,
   "metadata": {},
   "outputs": [
    {
     "data": {
      "text/plain": [
       "<h1 class=\"h3 lh-condensed\">\n",
       "<a data-hydro-click='{\"event_type\":\"explore.click\",\"payload\":{\"click_context\":\"TRENDING_REPOSITORIES_PAGE\",\"click_target\":\"REPOSITORY\",\"click_visual_representation\":\"REPOSITORY_NAME_HEADING\",\"actor_id\":null,\"record_id\":240315046,\"originating_url\":\"https://github.com/trending/python?since=daily\",\"user_id\":null}}' data-hydro-click-hmac=\"4e4ae9fe56c93d4b1c3c4d96b377380b68f4727741403591b8b5bc5ee5cc0575\" href=\"/jina-ai/jina\">\n",
       "<svg aria-hidden=\"true\" class=\"octicon octicon-repo mr-1 text-gray\" height=\"16\" version=\"1.1\" viewbox=\"0 0 16 16\" width=\"16\"><path d=\"M2 2.5A2.5 2.5 0 014.5 0h8.75a.75.75 0 01.75.75v12.5a.75.75 0 01-.75.75h-2.5a.75.75 0 110-1.5h1.75v-2h-8a1 1 0 00-.714 1.7.75.75 0 01-1.072 1.05A2.495 2.495 0 012 11.5v-9zm10.5-1V9h-8c-.356 0-.694.074-1 .208V2.5a1 1 0 011-1h8zM5 12.25v3.25a.25.25 0 00.4.2l1.45-1.087a.25.25 0 01.3 0L8.6 15.7a.25.25 0 00.4-.2v-3.25a.25.25 0 00-.25-.25h-3.5a.25.25 0 00-.25.25z\" fill-rule=\"evenodd\"></path></svg>\n",
       "<span class=\"text-normal\">\n",
       "        jina-ai /\n",
       "</span>\n",
       "      jina\n",
       "</a> </h1>"
      ]
     },
     "execution_count": 8,
     "metadata": {},
     "output_type": "execute_result"
    }
   ],
   "source": [
    "repositories = soup2.find_all('h1', attrs={'class':'h3 lh-condensed'})\n",
    "repositories[0]"
   ]
  },
  {
   "cell_type": "code",
   "execution_count": 63,
   "metadata": {},
   "outputs": [],
   "source": [
    "for repo in repositories:\n",
    "    name_repositories.append(repo.text.strip())\n",
    "\n",
    "\n",
    "  "
   ]
  },
  {
   "cell_type": "code",
   "execution_count": 78,
   "metadata": {},
   "outputs": [],
   "source": [
    "name_repositories2 = []\n",
    "for x in name_repositories:\n",
    "    name_repositories2.append(x.replace('/\\n\\n ', ''))\n",
    "\n"
   ]
  },
  {
   "cell_type": "code",
   "execution_count": 79,
   "metadata": {},
   "outputs": [
    {
     "data": {
      "text/plain": [
       "['jina-ai      jina',\n",
       " 'MTK-bypass      bypass_utility',\n",
       " 'ansible      awx',\n",
       " 'Asabeneh      30-Days-Of-Python',\n",
       " 'PaddlePaddle      PaddleOCR',\n",
       " 'RyanElliott10      wsbtickerbot',\n",
       " 'facebookresearch      detectron2',\n",
       " 'public-apis      public-apis',\n",
       " 'huggingface      transformers',\n",
       " 'OWASP      CheatSheetSeries',\n",
       " 'demisto      content',\n",
       " 'pandas-dev      pandas',\n",
       " 'facebookresearch      ParlAI',\n",
       " 'facebookresearch      detr',\n",
       " 'pytorch      vision',\n",
       " 'wagtail      wagtail',\n",
       " 'great-expectations      great_expectations',\n",
       " 'sanic-org      sanic',\n",
       " 'pytorch      fairseq',\n",
       " 'mingrammer      diagrams',\n",
       " 'nodejs      node-gyp',\n",
       " 'deepfakes      faceswap',\n",
       " 'Vonng      ddia',\n",
       " 'spulec      moto',\n",
       " 'samuelcolvin      pydantic',\n",
       " 'jina-ai      jina',\n",
       " 'MTK-bypass      bypass_utility',\n",
       " 'ansible      awx',\n",
       " 'Asabeneh      30-Days-Of-Python',\n",
       " 'PaddlePaddle      PaddleOCR',\n",
       " 'RyanElliott10      wsbtickerbot',\n",
       " 'facebookresearch      detectron2',\n",
       " 'public-apis      public-apis',\n",
       " 'huggingface      transformers',\n",
       " 'OWASP      CheatSheetSeries',\n",
       " 'demisto      content',\n",
       " 'pandas-dev      pandas',\n",
       " 'facebookresearch      ParlAI',\n",
       " 'facebookresearch      detr',\n",
       " 'pytorch      vision',\n",
       " 'wagtail      wagtail',\n",
       " 'great-expectations      great_expectations',\n",
       " 'sanic-org      sanic',\n",
       " 'pytorch      fairseq',\n",
       " 'mingrammer      diagrams',\n",
       " 'nodejs      node-gyp',\n",
       " 'deepfakes      faceswap',\n",
       " 'Vonng      ddia',\n",
       " 'spulec      moto',\n",
       " 'samuelcolvin      pydantic']"
      ]
     },
     "execution_count": 79,
     "metadata": {},
     "output_type": "execute_result"
    }
   ],
   "source": [
    "name_repositories2"
   ]
  },
  {
   "cell_type": "markdown",
   "metadata": {},
   "source": [
    "#### Challenge 3 - Display all the image links from Walt Disney wikipedia page"
   ]
  },
  {
   "cell_type": "code",
   "execution_count": 50,
   "metadata": {},
   "outputs": [],
   "source": [
    "# This is the url you will scrape in this exercise\n",
    "url = 'https://en.wikipedia.org/wiki/Walt_Disney'"
   ]
  },
  {
   "cell_type": "code",
   "execution_count": 51,
   "metadata": {},
   "outputs": [],
   "source": [
    "disney = requests.get(url)\n",
    "disney.status_code\n",
    "disney = BeautifulSoup(disney.content)"
   ]
  },
  {
   "cell_type": "code",
   "execution_count": 52,
   "metadata": {},
   "outputs": [],
   "source": [
    "image = disney.find_all(\"a\", class_=\"image\")\n"
   ]
  },
  {
   "cell_type": "code",
   "execution_count": 53,
   "metadata": {},
   "outputs": [
    {
     "data": {
      "text/plain": [
       "['/wiki/File:Walt_Disney_1946.JPG',\n",
       " '/wiki/File:Walt_Disney_1942_signature.svg',\n",
       " '/wiki/File:Walt_Disney_envelope_ca._1921.jpg',\n",
       " '/wiki/File:Trolley_Troubles_poster.jpg',\n",
       " '/wiki/File:Walt_Disney_and_his_cartoon_creation_%22Mickey_Mouse%22_-_National_Board_of_Review_Magazine.jpg']"
      ]
     },
     "execution_count": 53,
     "metadata": {},
     "output_type": "execute_result"
    }
   ],
   "source": [
    "image_list = []\n",
    "for ima in image:\n",
    "    image_list.append(ima.get(\"href\"))\n",
    "image_list[:5]"
   ]
  },
  {
   "cell_type": "markdown",
   "metadata": {},
   "source": [
    "#### Challenge 4 - Retrieve all links to pages on Wikipedia that refer to some kind of Python."
   ]
  },
  {
   "cell_type": "code",
   "execution_count": 54,
   "metadata": {},
   "outputs": [],
   "source": [
    "# This is the url you will scrape in this exercise\n",
    "url ='https://en.wikipedia.org/wiki/Python' "
   ]
  },
  {
   "cell_type": "code",
   "execution_count": 55,
   "metadata": {},
   "outputs": [],
   "source": [
    "python =requests.get(url)\n",
    "python.status_code\n",
    "python = BeautifulSoup(python.content)"
   ]
  },
  {
   "cell_type": "code",
   "execution_count": 56,
   "metadata": {},
   "outputs": [
    {
     "data": {
      "text/plain": [
       "[<a href=\"/wiki/Python_(Coney_Island,_Cincinnati,_Ohio)\" title=\"Python (Coney Island, Cincinnati, Ohio)\">Python (Coney Island, Cincinnati, Ohio)</a>]"
      ]
     },
     "execution_count": 56,
     "metadata": {},
     "output_type": "execute_result"
    }
   ],
   "source": [
    "link = python.find_all(\"a\", {\"href\": \"/wiki/Python_(Coney_Island,_Cincinnati,_Ohio)\" })\n",
    "link"
   ]
  },
  {
   "cell_type": "code",
   "execution_count": 57,
   "metadata": {},
   "outputs": [
    {
     "data": {
      "text/plain": [
       "['/wiki/Python_(Coney_Island,_Cincinnati,_Ohio)']"
      ]
     },
     "execution_count": 57,
     "metadata": {},
     "output_type": "execute_result"
    }
   ],
   "source": [
    "link_python = []\n",
    "for x in link:\n",
    "    link_python.append(x.get(\"href\"))\n",
    "    \n",
    "link_python    "
   ]
  },
  {
   "cell_type": "markdown",
   "metadata": {},
   "source": [
    "#### Challenge 5 - Number of Titles that have changed in the United States Code since its last release point "
   ]
  },
  {
   "cell_type": "code",
   "execution_count": 18,
   "metadata": {},
   "outputs": [],
   "source": [
    "# This is the url you will scrape in this exercise\n",
    "url = 'http://uscode.house.gov/download/download.shtml'"
   ]
  },
  {
   "cell_type": "code",
   "execution_count": 19,
   "metadata": {},
   "outputs": [],
   "source": [
    "title = requests.get(url)\n",
    "title.status_code\n",
    "\n",
    "titles = BeautifulSoup(title.content)"
   ]
  },
  {
   "cell_type": "code",
   "execution_count": 20,
   "metadata": {},
   "outputs": [
    {
     "data": {
      "text/plain": [
       "56"
      ]
     },
     "execution_count": 20,
     "metadata": {},
     "output_type": "execute_result"
    }
   ],
   "source": [
    "number = titles.find_all(\"div\", attrs={\"class\":[\"usctitle\", \"usctitlechanged\"]}) ## uscitem\n",
    "\n",
    "#La longitud de los que hemos sacado es el número de títulos que tenemos\n",
    "len(number)"
   ]
  },
  {
   "cell_type": "code",
   "execution_count": null,
   "metadata": {},
   "outputs": [],
   "source": [
    "''' Intente sacar una función buscando el patrón del título pero no lo conseguí\n",
    "import re\n",
    "def number_titles (x):\n",
    "    x = str(x)\n",
    "    return len(re.findall(r'Title \\d - \\w', x))\n",
    "'''"
   ]
  },
  {
   "cell_type": "markdown",
   "metadata": {},
   "source": [
    "#### Challenge 6 - A Python list with the top ten FBI's Most Wanted names "
   ]
  },
  {
   "cell_type": "code",
   "execution_count": 21,
   "metadata": {},
   "outputs": [],
   "source": [
    "# This is the url you will scrape in this exercise\n",
    "url = 'https://www.fbi.gov/wanted/topten'"
   ]
  },
  {
   "cell_type": "code",
   "execution_count": 22,
   "metadata": {},
   "outputs": [],
   "source": [
    "names = requests.get(url)\n",
    "names.status_code\n",
    "nam = BeautifulSoup(names.content, 'html.parser')"
   ]
  },
  {
   "cell_type": "code",
   "execution_count": 23,
   "metadata": {},
   "outputs": [
    {
     "data": {
      "text/plain": [
       "['ALEJANDRO ROSALES CASTILLO',\n",
       " 'ARNOLDO JIMENEZ',\n",
       " 'JASON DEREK BROWN',\n",
       " 'ALEXIS FLORES',\n",
       " 'JOSE RODOLFO VILLARREAL-HERNANDEZ',\n",
       " 'EUGENE PALMER',\n",
       " 'RAFAEL CARO-QUINTERO',\n",
       " 'ROBERT WILLIAM FISHER',\n",
       " 'BHADRESHKUMAR CHETANBHAI PATEL',\n",
       " 'YASER ABDEL SAID']"
      ]
     },
     "execution_count": 23,
     "metadata": {},
     "output_type": "execute_result"
    }
   ],
   "source": [
    "fbi = nam.find_all('h3', attrs={'class':'title'})\n",
    "fbi[1]\n",
    "\n",
    "most_wanted = []\n",
    "for i in fbi:\n",
    "    most_wanted.append(i.text.strip())\n",
    "\n",
    "most_wanted"
   ]
  },
  {
   "cell_type": "markdown",
   "metadata": {},
   "source": [
    "#### Challenge 7 - List all language names and number of related articles in the order they appear in wikipedia.org"
   ]
  },
  {
   "cell_type": "code",
   "execution_count": 24,
   "metadata": {},
   "outputs": [],
   "source": [
    "# This is the url you will scrape in this exercise\n",
    "url = 'https://www.wikipedia.org/'\n"
   ]
  },
  {
   "cell_type": "code",
   "execution_count": 25,
   "metadata": {},
   "outputs": [],
   "source": [
    "wiki = requests.get(url)\n",
    "wiki.status_code\n",
    "lang_wiki = BeautifulSoup(wiki.content)"
   ]
  },
  {
   "cell_type": "code",
   "execution_count": 26,
   "metadata": {},
   "outputs": [
    {
     "data": {
      "text/plain": [
       "<div class=\"central-featured-lang lang2\" dir=\"ltr\" lang=\"ja\">\n",
       "<a class=\"link-box\" data-slogan=\"フリー百科事典\" href=\"//ja.wikipedia.org/\" id=\"js-link-box-ja\" title=\"Nihongo — ウィキペディア — フリー百科事典\">\n",
       "<strong>日本語</strong>\n",
       "<small><bdi dir=\"ltr\">1 250 000+</bdi> <span>記事</span></small>\n",
       "</a>\n",
       "</div>"
      ]
     },
     "execution_count": 26,
     "metadata": {},
     "output_type": "execute_result"
    }
   ],
   "source": [
    "language = lang_wiki.find_all(\"div\", class_=\"central-featured-lang\")\n",
    "language[1]"
   ]
  },
  {
   "cell_type": "code",
   "execution_count": null,
   "metadata": {},
   "outputs": [],
   "source": [
    "language_list = []\n",
    "for wiki in language:\n",
    "    language_list.append(wiki.get(\"title\"))\n",
    "language_list = [wiki.replace('\\\\xa0',' ') for wiki in language_list]    "
   ]
  },
  {
   "cell_type": "markdown",
   "metadata": {},
   "source": [
    "#### Challenge 8 - A list with the different kind of datasets available in data.gov.uk"
   ]
  },
  {
   "cell_type": "code",
   "execution_count": 29,
   "metadata": {},
   "outputs": [],
   "source": [
    "# This is the url you will scrape in this exercise\n",
    "url = 'https://data.gov.uk/'"
   ]
  },
  {
   "cell_type": "code",
   "execution_count": 30,
   "metadata": {},
   "outputs": [],
   "source": [
    "lists = requests.get(url)\n",
    "lists.status_code\n",
    "lists_uk = BeautifulSoup(lists.content)"
   ]
  },
  {
   "cell_type": "code",
   "execution_count": 31,
   "metadata": {},
   "outputs": [
    {
     "data": {
      "text/plain": [
       "<h3 class=\"govuk-heading-s dgu-topics__heading\"><a class=\"govuk-link\" href=\"/search?filters%5Btopic%5D=Crime+and+justice\">Crime and justice</a></h3>"
      ]
     },
     "execution_count": 31,
     "metadata": {},
     "output_type": "execute_result"
    }
   ],
   "source": [
    "dataset = lists_uk.find_all(\"h3\", class_=\"govuk-heading-s dgu-topics__heading\")\n",
    "dataset[1]"
   ]
  },
  {
   "cell_type": "code",
   "execution_count": 32,
   "metadata": {},
   "outputs": [
    {
     "data": {
      "text/plain": [
       "['Business and economy',\n",
       " 'Crime and justice',\n",
       " 'Defence',\n",
       " 'Education',\n",
       " 'Environment',\n",
       " 'Government',\n",
       " 'Government spending',\n",
       " 'Health',\n",
       " 'Mapping',\n",
       " 'Society',\n",
       " 'Towns and cities',\n",
       " 'Transport']"
      ]
     },
     "execution_count": 32,
     "metadata": {},
     "output_type": "execute_result"
    }
   ],
   "source": [
    "uk_datasets = []\n",
    "for dat in dataset:\n",
    "    uk_datasets.append(dat.text.strip())\n",
    "\n",
    "uk_datasets"
   ]
  },
  {
   "cell_type": "markdown",
   "metadata": {},
   "source": [
    "#### Challenge 9 - Top 10 languages by number of native speakers stored in a Pandas Dataframe"
   ]
  },
  {
   "cell_type": "code",
   "execution_count": 33,
   "metadata": {},
   "outputs": [],
   "source": [
    "# This is the url you will scrape in this exercise\n",
    "url = 'https://en.wikipedia.org/wiki/List_of_languages_by_number_of_native_speakers'"
   ]
  },
  {
   "cell_type": "code",
   "execution_count": 34,
   "metadata": {},
   "outputs": [],
   "source": [
    "top = requests.get(url)\n",
    "top.status_code\n",
    "top_lan = BeautifulSoup(top.content)"
   ]
  },
  {
   "cell_type": "code",
   "execution_count": 35,
   "metadata": {},
   "outputs": [
    {
     "data": {
      "text/plain": [
       "['Mandarin Chinese',\n",
       " 'Sino-Tibetan languages',\n",
       " 'Varieties of Chinese',\n",
       " 'Spanish language',\n",
       " 'Indo-European languages',\n",
       " 'Romance languages',\n",
       " 'English language',\n",
       " 'Indo-European languages',\n",
       " 'Germanic languages',\n",
       " 'Hindi']"
      ]
     },
     "execution_count": 35,
     "metadata": {},
     "output_type": "execute_result"
    }
   ],
   "source": [
    "table = top_lan.find(\"table\", {\"class\":\"wikitable sortable\"})\n",
    "table\n",
    "\n",
    "languages = table.find_all(\"a\")\n",
    "languages\n",
    "\n",
    "#ahora vamos a sacar los paises:\n",
    "countries = []\n",
    "for i in languages:\n",
    "    countries.append(i.get(\"title\"))\n",
    "    \n",
    "countries[2:12]\n",
    "\n"
   ]
  },
  {
   "cell_type": "markdown",
   "metadata": {},
   "source": [
    "### Stepping up the game"
   ]
  },
  {
   "cell_type": "markdown",
   "metadata": {},
   "source": [
    "####  Challenge 10 - The 20 latest earthquakes info (date, time, latitude, longitude and region name) by the EMSC as a pandas dataframe"
   ]
  },
  {
   "cell_type": "code",
   "execution_count": null,
   "metadata": {},
   "outputs": [],
   "source": [
    "# This is the url you will scrape in this exercise\n",
    "url = 'https://www.emsc-csem.org/Earthquake/'"
   ]
  },
  {
   "cell_type": "markdown",
   "metadata": {},
   "source": [
    "#### Challenge 11 - IMDB's Top 250 data (movie name, Initial release, director name and stars) as a pandas dataframe"
   ]
  },
  {
   "cell_type": "code",
   "execution_count": null,
   "metadata": {},
   "outputs": [],
   "source": [
    "# This is the url you will scrape in this exercise \n",
    "url = 'https://www.imdb.com/chart/top'"
   ]
  },
  {
   "cell_type": "code",
   "execution_count": null,
   "metadata": {},
   "outputs": [],
   "source": []
  },
  {
   "cell_type": "markdown",
   "metadata": {},
   "source": [
    "#### Challenge 12 - Movie name, year and a brief summary of the top 10 random movies (IMDB) as a pandas dataframe."
   ]
  },
  {
   "cell_type": "code",
   "execution_count": 36,
   "metadata": {},
   "outputs": [],
   "source": [
    "#This is the url you will scrape in this exercise\n",
    "url = 'http://www.imdb.com/chart/top'"
   ]
  },
  {
   "cell_type": "code",
   "execution_count": 37,
   "metadata": {},
   "outputs": [],
   "source": [
    "film = requests.get(url)\n",
    "film.status_code\n",
    "film = BeautifulSoup(film.content, 'html.parser')\n"
   ]
  },
  {
   "cell_type": "code",
   "execution_count": 38,
   "metadata": {},
   "outputs": [],
   "source": [
    "import random\n",
    "def titles(url):\n",
    "    page = requests.get(url)\n",
    "    film = BeautifulSoup(page.content, 'html.parser')\n",
    "    movies = film.find_all(\"td\", class_=\"titleColumn\")\n",
    "    movies = movies[:10]\n",
    "        \n",
    "    top_movies = []\n",
    "    for i in movies:\n",
    "        top_movies.append(i.text.strip())\n",
    "\n",
    "    return top_movies\n",
    "    "
   ]
  },
  {
   "cell_type": "code",
   "execution_count": 39,
   "metadata": {},
   "outputs": [],
   "source": [
    "def years (url):\n",
    "    page = requests.get(url)\n",
    "    date = BeautifulSoup(page.content, 'html.parser')\n",
    "    date = date.find_all(\"span\", class_=\"secondaryInfo\")\n",
    "    date = date[:10]\n",
    "    \n",
    "    year = []\n",
    "    for i in date:\n",
    "        year.append(i.text.strip())\n",
    "    return year"
   ]
  },
  {
   "cell_type": "code",
   "execution_count": 40,
   "metadata": {},
   "outputs": [],
   "source": [
    "def califications (url):\n",
    "    page = requests.get(url)\n",
    "    cal = BeautifulSoup(page.content, 'html.parser')\n",
    "    cal = cal.find_all(\"td\", class_=\"ratingColumn imdbRating\")\n",
    "    cal = cal[:10]\n",
    "    \n",
    "    calification = []\n",
    "    for i in cal:\n",
    "        calification.append(i.text.strip())\n",
    "    return calification\n"
   ]
  },
  {
   "cell_type": "code",
   "execution_count": 41,
   "metadata": {},
   "outputs": [],
   "source": [
    "title = titles('http://www.imdb.com/chart/top')"
   ]
  },
  {
   "cell_type": "code",
   "execution_count": 42,
   "metadata": {},
   "outputs": [],
   "source": [
    "year = years('http://www.imdb.com/chart/top')"
   ]
  },
  {
   "cell_type": "code",
   "execution_count": 43,
   "metadata": {},
   "outputs": [
    {
     "data": {
      "text/plain": [
       "['9.2', '9.1', '9.0', '9.0', '8.9', '8.9', '8.9', '8.8', '8.8', '8.8']"
      ]
     },
     "execution_count": 43,
     "metadata": {},
     "output_type": "execute_result"
    }
   ],
   "source": [
    "calification = califications('http://www.imdb.com/chart/top')\n",
    "calification"
   ]
  },
  {
   "cell_type": "code",
   "execution_count": 44,
   "metadata": {},
   "outputs": [
    {
     "data": {
      "text/html": [
       "<div>\n",
       "<style scoped>\n",
       "    .dataframe tbody tr th:only-of-type {\n",
       "        vertical-align: middle;\n",
       "    }\n",
       "\n",
       "    .dataframe tbody tr th {\n",
       "        vertical-align: top;\n",
       "    }\n",
       "\n",
       "    .dataframe thead th {\n",
       "        text-align: right;\n",
       "    }\n",
       "</style>\n",
       "<table border=\"1\" class=\"dataframe\">\n",
       "  <thead>\n",
       "    <tr style=\"text-align: right;\">\n",
       "      <th></th>\n",
       "      <th>Films</th>\n",
       "      <th>Year</th>\n",
       "      <th>Califications</th>\n",
       "    </tr>\n",
       "  </thead>\n",
       "  <tbody>\n",
       "    <tr>\n",
       "      <th>0</th>\n",
       "      <td>1.\\n      Cadena perpetua\\n(1994)</td>\n",
       "      <td>(1994)</td>\n",
       "      <td>9.2</td>\n",
       "    </tr>\n",
       "    <tr>\n",
       "      <th>1</th>\n",
       "      <td>2.\\n      El padrino\\n(1972)</td>\n",
       "      <td>(1972)</td>\n",
       "      <td>9.1</td>\n",
       "    </tr>\n",
       "    <tr>\n",
       "      <th>2</th>\n",
       "      <td>3.\\n      El padrino: Parte II\\n(1974)</td>\n",
       "      <td>(1974)</td>\n",
       "      <td>9.0</td>\n",
       "    </tr>\n",
       "    <tr>\n",
       "      <th>3</th>\n",
       "      <td>4.\\n      El caballero oscuro\\n(2008)</td>\n",
       "      <td>(2008)</td>\n",
       "      <td>9.0</td>\n",
       "    </tr>\n",
       "    <tr>\n",
       "      <th>4</th>\n",
       "      <td>5.\\n      12 hombres sin piedad\\n(1957)</td>\n",
       "      <td>(1957)</td>\n",
       "      <td>8.9</td>\n",
       "    </tr>\n",
       "    <tr>\n",
       "      <th>5</th>\n",
       "      <td>6.\\n      La lista de Schindler\\n(1993)</td>\n",
       "      <td>(1993)</td>\n",
       "      <td>8.9</td>\n",
       "    </tr>\n",
       "    <tr>\n",
       "      <th>6</th>\n",
       "      <td>7.\\n      El señor de los anillos: El retorno ...</td>\n",
       "      <td>(2003)</td>\n",
       "      <td>8.9</td>\n",
       "    </tr>\n",
       "    <tr>\n",
       "      <th>7</th>\n",
       "      <td>8.\\n      Pulp Fiction\\n(1994)</td>\n",
       "      <td>(1994)</td>\n",
       "      <td>8.8</td>\n",
       "    </tr>\n",
       "    <tr>\n",
       "      <th>8</th>\n",
       "      <td>9.\\n      El bueno, el feo y el malo\\n(1966)</td>\n",
       "      <td>(1966)</td>\n",
       "      <td>8.8</td>\n",
       "    </tr>\n",
       "    <tr>\n",
       "      <th>9</th>\n",
       "      <td>10.\\n      El señor de los anillos: La comunid...</td>\n",
       "      <td>(2001)</td>\n",
       "      <td>8.8</td>\n",
       "    </tr>\n",
       "  </tbody>\n",
       "</table>\n",
       "</div>"
      ],
      "text/plain": [
       "                                               Films    Year Califications\n",
       "0                  1.\\n      Cadena perpetua\\n(1994)  (1994)           9.2\n",
       "1                       2.\\n      El padrino\\n(1972)  (1972)           9.1\n",
       "2             3.\\n      El padrino: Parte II\\n(1974)  (1974)           9.0\n",
       "3              4.\\n      El caballero oscuro\\n(2008)  (2008)           9.0\n",
       "4            5.\\n      12 hombres sin piedad\\n(1957)  (1957)           8.9\n",
       "5            6.\\n      La lista de Schindler\\n(1993)  (1993)           8.9\n",
       "6  7.\\n      El señor de los anillos: El retorno ...  (2003)           8.9\n",
       "7                     8.\\n      Pulp Fiction\\n(1994)  (1994)           8.8\n",
       "8       9.\\n      El bueno, el feo y el malo\\n(1966)  (1966)           8.8\n",
       "9  10.\\n      El señor de los anillos: La comunid...  (2001)           8.8"
      ]
     },
     "execution_count": 44,
     "metadata": {},
     "output_type": "execute_result"
    }
   ],
   "source": [
    "df = pd.DataFrame()\n",
    "df['Films']  = title\n",
    "df['Year']  = year\n",
    "df['Califications']  = calification\n",
    "df\n"
   ]
  },
  {
   "cell_type": "code",
   "execution_count": 46,
   "metadata": {},
   "outputs": [
    {
     "data": {
      "text/html": [
       "<div>\n",
       "<style scoped>\n",
       "    .dataframe tbody tr th:only-of-type {\n",
       "        vertical-align: middle;\n",
       "    }\n",
       "\n",
       "    .dataframe tbody tr th {\n",
       "        vertical-align: top;\n",
       "    }\n",
       "\n",
       "    .dataframe thead th {\n",
       "        text-align: right;\n",
       "    }\n",
       "</style>\n",
       "<table border=\"1\" class=\"dataframe\">\n",
       "  <thead>\n",
       "    <tr style=\"text-align: right;\">\n",
       "      <th></th>\n",
       "      <th>Films</th>\n",
       "      <th>Year</th>\n",
       "      <th>Califications</th>\n",
       "    </tr>\n",
       "  </thead>\n",
       "  <tbody>\n",
       "    <tr>\n",
       "      <th>0</th>\n",
       "      <td>.      Cadena perpetua()</td>\n",
       "      <td>(1994)</td>\n",
       "      <td>9.2</td>\n",
       "    </tr>\n",
       "    <tr>\n",
       "      <th>1</th>\n",
       "      <td>.      El padrino()</td>\n",
       "      <td>(1972)</td>\n",
       "      <td>9.1</td>\n",
       "    </tr>\n",
       "    <tr>\n",
       "      <th>2</th>\n",
       "      <td>.      El padrino: Parte II()</td>\n",
       "      <td>(1974)</td>\n",
       "      <td>9.0</td>\n",
       "    </tr>\n",
       "    <tr>\n",
       "      <th>3</th>\n",
       "      <td>.      El caballero oscuro()</td>\n",
       "      <td>(2008)</td>\n",
       "      <td>9.0</td>\n",
       "    </tr>\n",
       "    <tr>\n",
       "      <th>4</th>\n",
       "      <td>.       hombres sin piedad()</td>\n",
       "      <td>(1957)</td>\n",
       "      <td>8.9</td>\n",
       "    </tr>\n",
       "    <tr>\n",
       "      <th>5</th>\n",
       "      <td>.      La lista de Schindler()</td>\n",
       "      <td>(1993)</td>\n",
       "      <td>8.9</td>\n",
       "    </tr>\n",
       "    <tr>\n",
       "      <th>6</th>\n",
       "      <td>.      El señor de los anillos: El retorno del...</td>\n",
       "      <td>(2003)</td>\n",
       "      <td>8.9</td>\n",
       "    </tr>\n",
       "    <tr>\n",
       "      <th>7</th>\n",
       "      <td>.      Pulp Fiction()</td>\n",
       "      <td>(1994)</td>\n",
       "      <td>8.8</td>\n",
       "    </tr>\n",
       "    <tr>\n",
       "      <th>8</th>\n",
       "      <td>.      El bueno, el feo y el malo()</td>\n",
       "      <td>(1966)</td>\n",
       "      <td>8.8</td>\n",
       "    </tr>\n",
       "    <tr>\n",
       "      <th>9</th>\n",
       "      <td>.      El señor de los anillos: La comunidad d...</td>\n",
       "      <td>(2001)</td>\n",
       "      <td>8.8</td>\n",
       "    </tr>\n",
       "  </tbody>\n",
       "</table>\n",
       "</div>"
      ],
      "text/plain": [
       "                                               Films    Year Califications\n",
       "0                           .      Cadena perpetua()  (1994)           9.2\n",
       "1                                .      El padrino()  (1972)           9.1\n",
       "2                      .      El padrino: Parte II()  (1974)           9.0\n",
       "3                       .      El caballero oscuro()  (2008)           9.0\n",
       "4                       .       hombres sin piedad()  (1957)           8.9\n",
       "5                     .      La lista de Schindler()  (1993)           8.9\n",
       "6  .      El señor de los anillos: El retorno del...  (2003)           8.9\n",
       "7                              .      Pulp Fiction()  (1994)           8.8\n",
       "8                .      El bueno, el feo y el malo()  (1966)           8.8\n",
       "9  .      El señor de los anillos: La comunidad d...  (2001)           8.8"
      ]
     },
     "execution_count": 46,
     "metadata": {},
     "output_type": "execute_result"
    }
   ],
   "source": [
    "for column in df.columns:\n",
    "    df[\"Films\"] = df[\"Films\"].replace('(\\d)', '', regex=True)\n",
    "    df[\"Films\"] = df[\"Films\"].replace('( \\n)', '', regex=True)\n",
    "df"
   ]
  },
  {
   "cell_type": "markdown",
   "metadata": {},
   "source": [
    "#### Challenge 13 - Find the live weather report (temperature, wind speed, description and weather) of a given city."
   ]
  },
  {
   "cell_type": "code",
   "execution_count": null,
   "metadata": {},
   "outputs": [],
   "source": [
    "def weather(city):\n",
    "    pass"
   ]
  },
  {
   "cell_type": "markdown",
   "metadata": {},
   "source": [
    "#### Challenge 14 - Book name,price and stock availability as a pandas dataframe."
   ]
  },
  {
   "cell_type": "code",
   "execution_count": null,
   "metadata": {},
   "outputs": [],
   "source": [
    "# This is the url you will scrape in this exercise. \n",
    "# It is a fictional bookstore created to be scraped. \n",
    "url = 'http://books.toscrape.com/'"
   ]
  },
  {
   "cell_type": "code",
   "execution_count": null,
   "metadata": {},
   "outputs": [],
   "source": []
  },
  {
   "cell_type": "markdown",
   "metadata": {},
   "source": [
    "**Did you limit your output? Thank you! 🙂**"
   ]
  }
 ],
 "metadata": {
  "kernelspec": {
   "display_name": "Python 3",
   "language": "python",
   "name": "python3"
  },
  "language_info": {
   "codemirror_mode": {
    "name": "ipython",
    "version": 3
   },
   "file_extension": ".py",
   "mimetype": "text/x-python",
   "name": "python",
   "nbconvert_exporter": "python",
   "pygments_lexer": "ipython3",
   "version": "3.8.5"
  }
 },
 "nbformat": 4,
 "nbformat_minor": 2
}
