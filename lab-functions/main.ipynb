{
 "cells": [
  {
   "cell_type": "markdown",
   "metadata": {},
   "source": [
    "# Functions"
   ]
  },
  {
   "cell_type": "markdown",
   "metadata": {},
   "source": [
    "On this lab we will put to practice some of the concepts we have learned on this past few days.\n",
    "\n",
    "`NOTE: On this lab you should try to write all the functions yourself using only the most basic of python syntax and without functions such as len, count, sum, max, min, in, etc. Give it a try. 🧑🏻‍💻👩🏻‍💻`\n",
    "\n",
    "The cell after each exercise contains a few tests to check if your function works as expected."
   ]
  },
  {
   "cell_type": "code",
   "execution_count": 3,
   "metadata": {},
   "outputs": [],
   "source": [
    "from mod.testing import *\n",
    "import unittest"
   ]
  },
  {
   "cell_type": "markdown",
   "metadata": {},
   "source": [
    "## 1. Write a function that returns the greater of two numbers"
   ]
  },
  {
   "cell_type": "code",
   "execution_count": null,
   "metadata": {},
   "outputs": [],
   "source": [
    "def greater(a,b):\n",
    "    if a > b:\n",
    "        return a\n",
    "    return b\n",
    "    "
   ]
  },
  {
   "cell_type": "code",
   "execution_count": null,
   "metadata": {},
   "outputs": [],
   "source": [
    "# This will test your function \n",
    "test_greater(greater)"
   ]
  },
  {
   "cell_type": "markdown",
   "metadata": {},
   "source": [
    "## 2. Now write a function that returns the largest element on a list"
   ]
  },
  {
   "cell_type": "code",
   "execution_count": null,
   "metadata": {},
   "outputs": [],
   "source": [
    "def greatest(arr):\n",
    "    maximo = 0\n",
    "    while True:\n",
    "        for nums in arr:       \n",
    "            if nums > maximo:\n",
    "                maximo = nums\n",
    "            \n",
    "        return maximo\n",
    "    "
   ]
  },
  {
   "cell_type": "code",
   "execution_count": null,
   "metadata": {},
   "outputs": [],
   "source": [
    "# This will test your function \n",
    "test_greatest(greatest)"
   ]
  },
  {
   "cell_type": "markdown",
   "metadata": {},
   "source": [
    "## 3. Write a function that sums all the elements on a list"
   ]
  },
  {
   "cell_type": "code",
   "execution_count": null,
   "metadata": {},
   "outputs": [],
   "source": [
    "def sum_all(arr):\n",
    "    total = 0\n",
    "    for num in arr:\n",
    "        total += num\n",
    "    return total"
   ]
  },
  {
   "cell_type": "code",
   "execution_count": null,
   "metadata": {},
   "outputs": [],
   "source": [
    "# This will test your function \n",
    "test_sum(sum_all)"
   ]
  },
  {
   "cell_type": "markdown",
   "metadata": {},
   "source": [
    "## 4. Write another function that multiplies all the elements on a list"
   ]
  },
  {
   "cell_type": "code",
   "execution_count": null,
   "metadata": {},
   "outputs": [],
   "source": [
    "def mult_all(arr):\n",
    "    mult = 1\n",
    "    for nums in arr:\n",
    "        mult *= nums\n",
    "    \n",
    "    return mult"
   ]
  },
  {
   "cell_type": "code",
   "execution_count": null,
   "metadata": {},
   "outputs": [],
   "source": [
    "# This will test your function \n",
    "test_mult(mult_all)"
   ]
  },
  {
   "cell_type": "markdown",
   "metadata": {},
   "source": [
    "## 5. Now combine those two ideas and write a function that receives a list and either \"+\" or \"*\" and outputs acordingly"
   ]
  },
  {
   "cell_type": "code",
   "execution_count": null,
   "metadata": {},
   "outputs": [],
   "source": [
    "def oper_all(arr, oper):\n",
    "    \n",
    "    result_su = 0\n",
    "    result_mult = 1\n",
    "    \n",
    "    if oper == \"+\":\n",
    "        for number in arr: \n",
    "            result_su +=number\n",
    "            \n",
    "        return result_su\n",
    "        \n",
    "    else:\n",
    "        for number in arr:\n",
    "            result_mult *=number\n",
    "        \n",
    "        return result_mult\n",
    "        \n",
    "        \n",
    "            \n",
    "        \n",
    "    \n",
    "        "
   ]
  },
  {
   "cell_type": "code",
   "execution_count": null,
   "metadata": {},
   "outputs": [],
   "source": [
    "# This will test your function \n",
    "test_operations(oper_all)"
   ]
  },
  {
   "cell_type": "markdown",
   "metadata": {},
   "source": [
    "## 6. Write a function that returns the factorial of a number."
   ]
  },
  {
   "cell_type": "code",
   "execution_count": null,
   "metadata": {},
   "outputs": [],
   "source": [
    "def factorial(n):\n",
    "   \n",
    "    factorial = 1\n",
    "    \n",
    "    for fact in range(1, n + 1):\n",
    "        factorial *= fact\n",
    "    \n",
    "    return factorial"
   ]
  },
  {
   "cell_type": "code",
   "execution_count": null,
   "metadata": {},
   "outputs": [],
   "source": [
    "# This will test your function \n",
    "test_factorial(factorial)"
   ]
  },
  {
   "cell_type": "markdown",
   "metadata": {},
   "source": [
    "## 7. Write a function that takes a list and returns a list of the unique values.\n",
    "\n",
    "`NOTE: You cannot use set. 🤔`"
   ]
  },
  {
   "cell_type": "code",
   "execution_count": null,
   "metadata": {},
   "outputs": [],
   "source": [
    "def unique(arr):\n",
    "    new_list = []\n",
    "\n",
    "    for i in arr:\n",
    "        if i not in new_list:\n",
    "            new_list.append(i)\n",
    "        else:\n",
    "            pass\n",
    "    \n",
    "    return new_list\n"
   ]
  },
  {
   "cell_type": "code",
   "execution_count": null,
   "metadata": {},
   "outputs": [],
   "source": [
    "# This will test your function \n",
    "test_unique(unique)"
   ]
  },
  {
   "cell_type": "markdown",
   "metadata": {},
   "source": [
    "## 8. Write a function that returns the mode of a list, i.e.: the element that appears the most times.\n",
    "`NOTE: You should not use count... 🧐`"
   ]
  },
  {
   "cell_type": "code",
   "execution_count": null,
   "metadata": {},
   "outputs": [],
   "source": [
    "#Esa fue la primera opción que pensé. Pero no soy capaz de detctar el error... lo he probado con un pequeño array de 20 numeros \n",
    "    # y si que me funcionaba per cuando lo meto aqui me da fallo. \n",
    "\n",
    "def mode_counter(arr):\n",
    "    counter = {}\n",
    "\n",
    "    for i in arr:\n",
    "        if i in counter:\n",
    "            counter[i] += 1\n",
    "        else:\n",
    "            counter[i] = 1\n",
    "\n",
    "    max_val = 0\n",
    "    \n",
    "    for key, values in counter.items():\n",
    "        if values > max_val:\n",
    "            max_val = values\n",
    "            max_key = key\n",
    "        \n",
    "    return max_key \n"
   ]
  },
  {
   "cell_type": "code",
   "execution_count": null,
   "metadata": {},
   "outputs": [],
   "source": [
    "# This will test your function \n",
    "test_mode(mode_counter)"
   ]
  },
  {
   "cell_type": "markdown",
   "metadata": {},
   "source": [
    "## 9. Write a function that calculates the standard deviation of a list.\n",
    "`NOTE: Do not use any libraries or already built functions. 😉`"
   ]
  },
  {
   "cell_type": "code",
   "execution_count": 4,
   "metadata": {},
   "outputs": [],
   "source": [
    "\n",
    "def st_dev(arr):\n",
    "    \n",
    "    mean = 0\n",
    "    sum_total = 0\n",
    "    n = 0\n",
    "    deviation = []\n",
    "    square = []\n",
    "    mean_square = 0\n",
    "    sum_square = 0\n",
    "    \n",
    "    for num in arr:\n",
    "        sum_total += num\n",
    "        n += 1\n",
    "    \n",
    "    average = sum_total/n\n",
    "    \n",
    "    \n",
    "    for num in arr:\n",
    "        deviation.append(num - average)\n",
    "        \n",
    "    for num in deviation:\n",
    "        square.append(num ** 2)\n",
    "    \n",
    "    for num in square:\n",
    "        sum_square += num\n",
    "    \n",
    "    mean_square = sum_square/(n -1)\n",
    "    st_dev = mean_square ** 0.5\n",
    "    \n",
    "    return st_dev\n",
    "   "
   ]
  },
  {
   "cell_type": "code",
   "execution_count": 5,
   "metadata": {},
   "outputs": [
    {
     "name": "stderr",
     "output_type": "stream",
     "text": [
      "....................................................................................................\n",
      "----------------------------------------------------------------------\n",
      "Ran 100 tests in 0.098s\n",
      "\n",
      "OK\n"
     ]
    }
   ],
   "source": [
    "# This will test your function \n",
    "test_stdev(st_dev)"
   ]
  },
  {
   "cell_type": "markdown",
   "metadata": {},
   "source": [
    "## 10. Write a function to check if a string is a pangram, i.e.: if it contains all the letters of the alphabet at least once. Mind that the strings may contain characters that are not letters."
   ]
  },
  {
   "cell_type": "code",
   "execution_count": null,
   "metadata": {},
   "outputs": [],
   "source": [
    "def pangram(string):\n",
    "    alp = 'abcdefghijklmnopqrstuvwyz'\n",
    "    \n",
    "    for i in alp:\n",
    "        if i not in string.lower():\n",
    "            return False\n",
    "    return True\n",
    "    \n",
    "     "
   ]
  },
  {
   "cell_type": "code",
   "execution_count": null,
   "metadata": {},
   "outputs": [],
   "source": [
    "def pangram(string):\n",
    "    alp = 'abcdefghijklmnopqrstuvwyz'\n",
    "    \n",
    "    for i in alp:\n",
    "        \n",
    "        if i  in string.lower():\n",
    "            return True\n",
    "        \n",
    "    return False\n",
    "    \n",
    "    \n",
    "### Lo que no termino de entender es porque aquí al aplicar la lógica inversa no funciona."
   ]
  },
  {
   "cell_type": "code",
   "execution_count": null,
   "metadata": {},
   "outputs": [],
   "source": [
    "# This will test your function \n",
    "test_pangram(pangram)"
   ]
  },
  {
   "cell_type": "markdown",
   "metadata": {},
   "source": [
    "## 11. Write a function that receives a string of comma separated words and returns a string of comma separated words sorted alphabetically.\n",
    "\n",
    "`NOTE: You may use sorted but not split and definitely no join! 🤪`"
   ]
  },
  {
   "cell_type": "code",
   "execution_count": null,
   "metadata": {},
   "outputs": [],
   "source": [
    "def sort_alpha(string):\n",
    "    \n",
    "    #primero tengo que separar las palabras\n",
    "    #luego ordenarlas \n",
    "    #y por ultimo volver a ponerle comas?\n",
    "    \n",
    "    #lo mejor será ordenar en listas y luego volver a string\n",
    "    \n",
    "    words = []\n",
    "    current_word = \"\"\n",
    "    counter =  0\n",
    "    delim = \",\"\n",
    "    s = \"\" #PREGUNTA TONTA ¿¿hay alguna diferencia entre poner un espacio entre las comillas y no ponerlo??\n",
    "    \n",
    "\n",
    "    for char in string: #con esto lo que hago es separar todas las palabras \n",
    "        if char == \",\":\n",
    "            words.append(current_word)\n",
    "            current_word = \"\"\n",
    "        else:\n",
    "            current_word += char\n",
    "\n",
    "    words.append(current_word) #para luego juntarlas en una única lista que luego podre ordenar\n",
    "\n",
    "    words_sorted = sorted(words)\n",
    "    print(words_sorted)\n",
    "    \n",
    "    for str in words_sorted: # aquí vuelvo a meterlo en un str (s) para separalo por comas como pide el ej. \n",
    "        s += (str + delim)\n",
    "        \n",
    "\n",
    "    def_str = (s[:46]) # lo ideal seria poner (s[:-1]) pero no sé porque me sigue manteniendo la última coma\n",
    "\n",
    "    return def_str\n",
    "\n",
    "#NO SOY CAPAZ DE SACARLO! SEGÚN ESTOY PROBANDO APARTE, HASTA LA CREACION DE LA VARIABLE WORDS_SORTED TODO VA BIEN (CONSIGO UNA \n",
    "    #LISTA CON CADA UNO DE LOS STRING ORDENADOS)"
   ]
  },
  {
   "cell_type": "code",
   "execution_count": null,
   "metadata": {},
   "outputs": [],
   "source": [
    "# This will test your function \n",
    "test_alpha(sort_alpha)"
   ]
  },
  {
   "cell_type": "markdown",
   "metadata": {},
   "source": [
    "## 12. Write a function to check if a given password is strong (at least 8 characters, at least one lower case, at least one upper case, at least one number and at least one special character). It should output True if strong and False if not.\n",
    "`Valid special characters: # @ ! $ % & ( ) ^ * [ ] { }`"
   ]
  },
  {
   "cell_type": "code",
   "execution_count": 8,
   "metadata": {},
   "outputs": [],
   "source": [
    " def check_pass(string):\n",
    "    \n",
    "    SpecialSym=['#', '@', '!', '¡' '$', '%', '&', '( )',  '^',  '*',  '[ ]', '{ }']\n",
    "    return_val=True\n",
    "\n",
    "    if len(string) <= 8: # se que hay que evitar usar estas funciones. Pero me estoy volviendo loca intentando detectar donde \n",
    "                            #tengo el error y estoy tratando de simplificarlo un poco. \n",
    "        print('the length of password should at least 8 characters')\n",
    "        return_val=False\n",
    "        \n",
    "    if not any(number.isdigit() for number in string): \n",
    "        print('the password should have at least one number')\n",
    "        return_val=False\n",
    "        \n",
    "    if not any(chars.isupper() for chars in string):\n",
    "        print('the password should have at least one uppercase letter')\n",
    "        return_val=False\n",
    "        \n",
    "    if not any(charl.islower() for charl in string):\n",
    "        print('the password should have at least one lowercase letter')\n",
    "        return_val=False\n",
    "        \n",
    "    if not any(spchar in SpecialSym for spchar in string):\n",
    "        print('the password should have at least one of the symbols')\n",
    "        return_val=False\n",
    "        \n",
    "            \n",
    "    return return_val\n",
    "\n",
    "# Este no consigo llegar a entender el porque no consigo el test completo al 100 %. En todas las pruebas que hice me sale que\n",
    "    #entre 5-9 tests"
   ]
  },
  {
   "cell_type": "code",
   "execution_count": 9,
   "metadata": {},
   "outputs": [
    {
     "name": "stderr",
     "output_type": "stream",
     "text": [
      "...F.....................................F....................FF..........F.F......................."
     ]
    },
    {
     "name": "stdout",
     "output_type": "stream",
     "text": [
      "the length of password should at least 8 characters\n",
      "the password should have at least one number\n",
      "the password should have at least one of the symbols\n",
      "the password should have at least one number\n",
      "the password should have at least one of the symbols\n",
      "the password should have at least one of the symbols\n",
      "the length of password should at least 8 characters\n",
      "the length of password should at least 8 characters\n",
      "the password should have at least one uppercase letter\n",
      "the password should have at least one of the symbols\n",
      "the length of password should at least 8 characters\n",
      "the password should have at least one of the symbols\n",
      "the password should have at least one uppercase letter\n",
      "the password should have at least one number\n",
      "the password should have at least one of the symbols\n",
      "the length of password should at least 8 characters\n",
      "the password should have at least one number\n",
      "the password should have at least one uppercase letter\n",
      "the password should have at least one of the symbols\n",
      "the password should have at least one number\n",
      "the password should have at least one of the symbols\n",
      "the length of password should at least 8 characters\n",
      "the password should have at least one lowercase letter\n",
      "the length of password should at least 8 characters\n",
      "the password should have at least one number\n",
      "the password should have at least one uppercase letter\n",
      "the password should have at least one of the symbols\n",
      "the password should have at least one number\n",
      "the password should have at least one of the symbols\n",
      "the length of password should at least 8 characters\n",
      "the password should have at least one uppercase letter\n",
      "the password should have at least one of the symbols\n",
      "the length of password should at least 8 characters\n",
      "the password should have at least one number\n",
      "the password should have at least one of the symbols\n",
      "the length of password should at least 8 characters\n",
      "the password should have at least one uppercase letter\n",
      "the password should have at least one number\n",
      "the length of password should at least 8 characters\n",
      "the password should have at least one uppercase letter\n",
      "the length of password should at least 8 characters\n",
      "the password should have at least one of the symbols\n",
      "the length of password should at least 8 characters\n",
      "the password should have at least one uppercase letter\n",
      "the password should have at least one of the symbols\n",
      "the password should have at least one number\n",
      "the password should have at least one of the symbols\n",
      "the password should have at least one of the symbols\n",
      "the length of password should at least 8 characters\n",
      "the length of password should at least 8 characters\n",
      "the password should have at least one number\n",
      "the password should have at least one of the symbols\n",
      "the password should have at least one of the symbols\n",
      "the password should have at least one of the symbols\n",
      "the password should have at least one number\n",
      "the password should have at least one of the symbols\n",
      "the length of password should at least 8 characters\n",
      "the password should have at least one number\n",
      "the password should have at least one of the symbols\n",
      "the password should have at least one number\n",
      "the length of password should at least 8 characters\n",
      "the password should have at least one number\n",
      "the password should have at least one uppercase letter\n",
      "the password should have at least one number\n",
      "the length of password should at least 8 characters\n",
      "the password should have at least one of the symbols\n",
      "the length of password should at least 8 characters\n",
      "the password should have at least one number\n",
      "the password should have at least one uppercase letter\n",
      "the password should have at least one number\n",
      "the length of password should at least 8 characters\n",
      "the password should have at least one number\n",
      "the password should have at least one uppercase letter\n",
      "the password should have at least one of the symbols\n",
      "the password should have at least one of the symbols\n",
      "the password should have at least one of the symbols\n",
      "the password should have at least one of the symbols\n",
      "the length of password should at least 8 characters\n",
      "the password should have at least one uppercase letter\n",
      "the password should have at least one of the symbols\n",
      "the password should have at least one number\n",
      "the password should have at least one of the symbols\n",
      "the password should have at least one of the symbols\n",
      "the length of password should at least 8 characters\n",
      "the password should have at least one uppercase letter\n",
      "the password should have at least one of the symbols\n",
      "the password should have at least one number\n",
      "the length of password should at least 8 characters\n",
      "the password should have at least one number\n",
      "the password should have at least one uppercase letter\n",
      "the password should have at least one of the symbols\n",
      "the length of password should at least 8 characters\n",
      "the password should have at least one of the symbols\n",
      "the length of password should at least 8 characters\n",
      "the password should have at least one number\n",
      "the password should have at least one of the symbols\n",
      "the length of password should at least 8 characters\n",
      "the password should have at least one number\n",
      "the password should have at least one uppercase letter\n",
      "the length of password should at least 8 characters\n",
      "the password should have at least one uppercase letter\n",
      "the password should have at least one of the symbols\n",
      "the password should have at least one uppercase letter\n",
      "the length of password should at least 8 characters\n",
      "the password should have at least one uppercase letter\n",
      "the password should have at least one number\n",
      "the password should have at least one of the symbols\n",
      "the password should have at least one of the symbols\n",
      "the length of password should at least 8 characters\n",
      "the password should have at least one uppercase letter\n",
      "the length of password should at least 8 characters\n",
      "the password should have at least one of the symbols\n",
      "the password should have at least one number\n",
      "the password should have at least one uppercase letter\n",
      "the password should have at least one number\n",
      "the length of password should at least 8 characters\n",
      "the password should have at least one number\n",
      "the password should have at least one of the symbols\n",
      "the length of password should at least 8 characters\n",
      "the password should have at least one number\n",
      "the password should have at least one uppercase letter\n",
      "the password should have at least one of the symbols\n",
      "the length of password should at least 8 characters\n",
      "the password should have at least one number\n",
      "the length of password should at least 8 characters\n",
      "the password should have at least one number\n",
      "the password should have at least one of the symbols\n",
      "the length of password should at least 8 characters\n",
      "the password should have at least one number\n",
      "the password should have at least one of the symbols\n",
      "the password should have at least one of the symbols\n",
      "the length of password should at least 8 characters\n",
      "the password should have at least one of the symbols\n",
      "the password should have at least one of the symbols\n",
      "the length of password should at least 8 characters\n",
      "the password should have at least one of the symbols\n",
      "the password should have at least one of the symbols\n",
      "the password should have at least one uppercase letter\n",
      "the password should have at least one of the symbols\n",
      "the password should have at least one of the symbols\n",
      "the length of password should at least 8 characters\n",
      "the password should have at least one number\n",
      "the password should have at least one of the symbols\n",
      "the length of password should at least 8 characters\n",
      "the password should have at least one number\n",
      "the password should have at least one of the symbols\n",
      "the length of password should at least 8 characters\n",
      "the password should have at least one number\n",
      "the password should have at least one uppercase letter\n",
      "the password should have at least one of the symbols\n",
      "the length of password should at least 8 characters\n",
      "the password should have at least one number\n",
      "the password should have at least one of the symbols\n",
      "the length of password should at least 8 characters\n",
      "the length of password should at least 8 characters\n",
      "the password should have at least one number\n",
      "the password should have at least one number\n",
      "the length of password should at least 8 characters\n",
      "the password should have at least one number\n",
      "the password should have at least one uppercase letter\n",
      "the password should have at least one of the symbols\n",
      "the password should have at least one number\n",
      "the password should have at least one of the symbols\n",
      "the password should have at least one number\n",
      "the password should have at least one number\n",
      "the length of password should at least 8 characters\n",
      "the password should have at least one number\n",
      "the password should have at least one lowercase letter\n",
      "the password should have at least one of the symbols\n",
      "the length of password should at least 8 characters\n",
      "the password should have at least one number\n",
      "the password should have at least one of the symbols\n",
      "the length of password should at least 8 characters\n",
      "the password should have at least one lowercase letter\n",
      "the password should have at least one of the symbols\n"
     ]
    },
    {
     "name": "stderr",
     "output_type": "stream",
     "text": [
      "\n",
      "======================================================================\n",
      "FAIL: runTest (mod.testing.test_pass.<locals>.TestKnown)\n",
      "----------------------------------------------------------------------\n",
      "Traceback (most recent call last):\n",
      "  File \"/mnt/c/Users/agarc/Bootcamp_ IronHack/Repos/lab-functions/mod/testing.py\", line 202, in runTest\n",
      "    self.assertEqual(fn(self.input), self.output, f\"Should be {self.output}\")\n",
      "AssertionError: False != True : Should be True\n",
      "\n",
      "======================================================================\n",
      "FAIL: runTest (mod.testing.test_pass.<locals>.TestKnown)\n",
      "----------------------------------------------------------------------\n",
      "Traceback (most recent call last):\n",
      "  File \"/mnt/c/Users/agarc/Bootcamp_ IronHack/Repos/lab-functions/mod/testing.py\", line 202, in runTest\n",
      "    self.assertEqual(fn(self.input), self.output, f\"Should be {self.output}\")\n",
      "AssertionError: False != True : Should be True\n",
      "\n",
      "======================================================================\n",
      "FAIL: runTest (mod.testing.test_pass.<locals>.TestKnown)\n",
      "----------------------------------------------------------------------\n",
      "Traceback (most recent call last):\n",
      "  File \"/mnt/c/Users/agarc/Bootcamp_ IronHack/Repos/lab-functions/mod/testing.py\", line 202, in runTest\n",
      "    self.assertEqual(fn(self.input), self.output, f\"Should be {self.output}\")\n",
      "AssertionError: False != True : Should be True\n",
      "\n",
      "======================================================================\n",
      "FAIL: runTest (mod.testing.test_pass.<locals>.TestKnown)\n",
      "----------------------------------------------------------------------\n",
      "Traceback (most recent call last):\n",
      "  File \"/mnt/c/Users/agarc/Bootcamp_ IronHack/Repos/lab-functions/mod/testing.py\", line 202, in runTest\n",
      "    self.assertEqual(fn(self.input), self.output, f\"Should be {self.output}\")\n",
      "AssertionError: False != True : Should be True\n",
      "\n",
      "======================================================================\n",
      "FAIL: runTest (mod.testing.test_pass.<locals>.TestKnown)\n",
      "----------------------------------------------------------------------\n",
      "Traceback (most recent call last):\n",
      "  File \"/mnt/c/Users/agarc/Bootcamp_ IronHack/Repos/lab-functions/mod/testing.py\", line 202, in runTest\n",
      "    self.assertEqual(fn(self.input), self.output, f\"Should be {self.output}\")\n",
      "AssertionError: False != True : Should be True\n",
      "\n",
      "======================================================================\n",
      "FAIL: runTest (mod.testing.test_pass.<locals>.TestKnown)\n",
      "----------------------------------------------------------------------\n",
      "Traceback (most recent call last):\n",
      "  File \"/mnt/c/Users/agarc/Bootcamp_ IronHack/Repos/lab-functions/mod/testing.py\", line 202, in runTest\n",
      "    self.assertEqual(fn(self.input), self.output, f\"Should be {self.output}\")\n",
      "AssertionError: False != True : Should be True\n",
      "\n",
      "----------------------------------------------------------------------\n",
      "Ran 100 tests in 0.110s\n",
      "\n",
      "FAILED (failures=6)\n"
     ]
    }
   ],
   "source": [
    "# This will test your function \n",
    "test_pass(check_pass)"
   ]
  },
  {
   "cell_type": "code",
   "execution_count": null,
   "metadata": {},
   "outputs": [],
   "source": []
  }
 ],
 "metadata": {
  "kernelspec": {
   "display_name": "Python 3",
   "language": "python",
   "name": "python3"
  },
  "language_info": {
   "codemirror_mode": {
    "name": "ipython",
    "version": 3
   },
   "file_extension": ".py",
   "mimetype": "text/x-python",
   "name": "python",
   "nbconvert_exporter": "python",
   "pygments_lexer": "ipython3",
   "version": "3.8.5"
  }
 },
 "nbformat": 4,
 "nbformat_minor": 4
}
