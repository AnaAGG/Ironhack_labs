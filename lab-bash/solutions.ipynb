{
 "cells": [
  {
   "cell_type": "markdown",
   "metadata": {},
   "source": [
    "#### Imprime en consola Hello World."
   ]
  },
  {
   "cell_type": "markdown",
   "metadata": {},
   "source": [
    "Your solution here:\n"
   ]
  },
  {
   "cell_type": "markdown",
   "metadata": {},
   "source": [
    "echo \"Hello World\""
   ]
  },
  {
   "cell_type": "markdown",
   "metadata": {},
   "source": [
    "#### Crea un directorio nuevo llamado new_dir."
   ]
  },
  {
   "cell_type": "markdown",
   "metadata": {},
   "source": [
    "Your solution here:\n"
   ]
  },
  {
   "cell_type": "markdown",
   "metadata": {},
   "source": [
    "mkdir new_dir"
   ]
  },
  {
   "cell_type": "markdown",
   "metadata": {},
   "source": [
    "#### Elimina ese directorio."
   ]
  },
  {
   "cell_type": "markdown",
   "metadata": {},
   "source": [
    "Your solution here:\n"
   ]
  },
  {
   "cell_type": "markdown",
   "metadata": {},
   "source": [
    "rm -r new_dir"
   ]
  },
  {
   "cell_type": "markdown",
   "metadata": {},
   "source": [
    "**Copia el archivo sed.txt dentro de la carpeta lorem a la carpeta lorem-copy. TIP: Puede ser necesario crear la carpeta lorem-copy primero**\n",
    "\n",
    "mkdir lorem-copy\n",
    "\n",
    "cp sed.txt lorem-copy\n",
    "\n",
    "En caso de que las dos carpetas estén a la misma altura: \n",
    "    cp lorem/sed.txt lorem-copy  #Habría que especificar la ruta de donde esta el fichero\n",
    "     "
   ]
  },
  {
   "cell_type": "markdown",
   "metadata": {},
   "source": [
    "**Copia los otros dos archivos de la carpeta lorem a la carpeta lorem-copy en una sola línea**\n",
    "\n",
    "cp at.txt lorem.txt lorem-copy"
   ]
  },
  {
   "cell_type": "markdown",
   "metadata": {},
   "source": [
    "**Muestra el contenido del archivo sed.txt dentro de la carpeta lorem**\n",
    "\n",
    "cd ..\n",
    "cat sed.txt"
   ]
  },
  {
   "cell_type": "markdown",
   "metadata": {},
   "source": [
    "**Muestra el contenido de los archivos at.txt y lorem.txt dentro de la carpeta lorem**\n",
    "\n",
    "cat at.tx\n",
    "cat lorem.txt"
   ]
  },
  {
   "cell_type": "markdown",
   "metadata": {},
   "source": [
    "**Visualiza las primeras 3 líneas del archivo sed.txt dentro de la carpeta lorem-copy**\n",
    "\n",
    "cd lorem-copy/\n",
    "head -n 3 sed.txt"
   ]
  },
  {
   "cell_type": "markdown",
   "metadata": {},
   "source": [
    "**Visualiza las ultimas 3 líneas del archivo sed.txt dentro de la carpeta lorem-copy**\n",
    "\n",
    "tail -n 3 sed.txt"
   ]
  },
  {
   "cell_type": "markdown",
   "metadata": {},
   "source": [
    "**Añade Homo homini lupus. al final de archivo sed.txt dentro de la carpeta lorem-copy**\n",
    "\n",
    "echo \" Homo homini lupus\" >> sed.txt\n",
    "cat sed.txt #Para comprobar que esta añadido"
   ]
  },
  {
   "cell_type": "markdown",
   "metadata": {},
   "source": [
    "**Visualiza las últimas 3 líneas del archivo sed.txt dentro de la carpeta lorem-copy. Deberías ver ahora Homo homini lupus**\n",
    "\n",
    "tail -n 3 sed.txt"
   ]
  },
  {
   "cell_type": "markdown",
   "metadata": {},
   "source": [
    "**Sustituye todas las apariciones de et por ET del archivo at.txt dentro de la carpeta lorem-copy. Deberás usar sed**\n",
    "\n",
    "sed -i 's/et/ET/g' \"at.txt\"\n",
    "#comando sed -i 's/texto a buscar/texto a reemplazar/g' \"fichero donde quiero que se cambie\""
   ]
  },
  {
   "cell_type": "markdown",
   "metadata": {},
   "source": [
    "**Encuentra al usuario activo en el sistema**\n",
    "\n",
    "whoami #Para identificar el nombre del usuario vinculado a la terminal\n",
    "\n",
    "git config user.name #Para identificar el nombre del usuario de Git"
   ]
  },
  {
   "cell_type": "markdown",
   "metadata": {},
   "source": [
    "**Encuentra dónde estás en tu sistema de ficheros**\n",
    "\n",
    "pwd"
   ]
  },
  {
   "cell_type": "markdown",
   "metadata": {},
   "source": [
    "**Lista los archivos que terminan por .txt en la carpeta lorem**\n",
    "\n",
    "cd ..\n",
    "\n",
    "ls *.txt"
   ]
  },
  {
   "cell_type": "markdown",
   "metadata": {},
   "source": [
    "**Cuenta el número de líneas que tiene el archivo sed.txt dentro de la carpeta lorem**\n",
    "\n",
    "wc sed.txt\n",
    "\n",
    "cat sed.txt | wc -l"
   ]
  },
  {
   "cell_type": "markdown",
   "metadata": {},
   "source": [
    "**Cuenta el número de archivos que empiezan por lorem que están en este directorio y en directorios internos**\n",
    "\n",
    "wc lorem*.txt\n"
   ]
  },
  {
   "cell_type": "markdown",
   "metadata": {},
   "source": [
    "**Encuentra todas las apariciones de et en at.txt dentro de la carpeta lorem**\n",
    "\n",
    "cat at.txt | grep et\n",
    "\n",
    "cat at.txt |grep et*\n"
   ]
  },
  {
   "cell_type": "markdown",
   "metadata": {},
   "source": [
    "**Cuenta el número de apariciones del string et en at.txt dentro de la carpeta lorem**\n",
    "\n",
    "cat at.txt | grep et | wc -l  # Para buscar todas las palabras que sean et\n",
    "\n",
    "cat at.txt | grep et* | wc -l # Cuenta todas las palabas que sean et y que lo contengan\n"
   ]
  },
  {
   "cell_type": "markdown",
   "metadata": {},
   "source": [
    "**Cuenta el número de apariciones del string et en todos los archivos del directorio lorem-copy**\n",
    "\n",
    "\n",
    "grep -r et /mnt/c/Users/agarc/Bootcamp Iron Hack/Repos/lab-bash/lorem/lorem-copy |wc"
   ]
  },
  {
   "cell_type": "markdown",
   "metadata": {},
   "source": [
    "**Almacena en una variable name tu nombre**\n",
    "\n",
    "name=\"Ana\""
   ]
  },
  {
   "cell_type": "markdown",
   "metadata": {},
   "source": [
    "**Imprime esa variable**\n",
    "\n",
    "echo $name"
   ]
  },
  {
   "cell_type": "markdown",
   "metadata": {},
   "source": [
    "**Crea un directorio nuevo que se llame como el contenido de la variable `name`\n",
    "\n",
    "mkdir $name\n"
   ]
  },
  {
   "cell_type": "markdown",
   "metadata": {},
   "source": [
    "**Elimina ese directorio\n",
    "\n",
    "rm -r Ana"
   ]
  },
  {
   "cell_type": "markdown",
   "metadata": {},
   "source": [
    "**Muestra los procesos de forma jerárquica que se están ejecutando en tu ordenador:\n",
    "    1. Usando el comando top o htop\n",
    "    2. Usando el comando ps con argumentos\n",
    "    \n",
    "  "
   ]
  },
  {
   "cell_type": "markdown",
   "metadata": {},
   "source": [
    "**Muestra información sobre tu procesador por pantalla\n",
    "\n",
    "lscpu"
   ]
  },
  {
   "cell_type": "markdown",
   "metadata": {},
   "source": [
    "**Crea 3 alias y haz que estén disponibles cada vez que inicias sesión\n",
    "\n",
    "vim ~/.bashrc\n",
    "\n",
    "alias Repos=\"cd /mnt/c/Users/agarc/Bootcamp Iron Hack/Repos/\" #Me sale el siguiente error : *bash: cd: too many arguments\n",
    "alias jn=\"jupyter notebook\" #Este me sale sin ningún problema\n",
    "alias gs=\"git status\"\n"
   ]
  },
  {
   "cell_type": "markdown",
   "metadata": {},
   "source": [
    "**Comprime las carpetas lorem y lorem-copy en un archivo llamado lorem-compressed.tar.gz\n",
    "\n",
    "tar -czvf lorem-compressed.tar.gz lorem/ lorem-copy/\n"
   ]
  },
  {
   "cell_type": "markdown",
   "metadata": {},
   "source": [
    "**Descomprime el archivo lorem-compressed.tar.gz en la carpeta lorem-uncompressed\n",
    "\n",
    "tar -xvf lorem-compressed.tar.gz"
   ]
  },
  {
   "cell_type": "markdown",
   "metadata": {},
   "source": [
    "**Crea un script bash para imprimir los numeros de 1 a 100\n",
    "\n",
    "touch list_numbers.sh\n",
    "echo \"list(range(1,101))\" >> list_numbers.sh\n",
    "bash list_numbers.sh"
   ]
  },
  {
   "cell_type": "code",
   "execution_count": null,
   "metadata": {},
   "outputs": [],
   "source": []
  }
 ],
 "metadata": {
  "kernelspec": {
   "display_name": "Python 3",
   "language": "python",
   "name": "python3"
  },
  "language_info": {
   "codemirror_mode": {
    "name": "ipython",
    "version": 3
   },
   "file_extension": ".py",
   "mimetype": "text/x-python",
   "name": "python",
   "nbconvert_exporter": "python",
   "pygments_lexer": "ipython3",
   "version": "3.8.5"
  }
 },
 "nbformat": 4,
 "nbformat_minor": 4
}
