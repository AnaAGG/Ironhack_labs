{
 "cells": [
  {
   "cell_type": "code",
   "execution_count": 4,
   "metadata": {},
   "outputs": [],
   "source": [
    "import json\n",
    "import os\n",
    "import requests\n",
    "import pandas as pd"
   ]
  },
  {
   "cell_type": "code",
   "execution_count": 5,
   "metadata": {},
   "outputs": [
    {
     "data": {
      "text/plain": [
       "True"
      ]
     },
     "execution_count": 5,
     "metadata": {},
     "output_type": "execute_result"
    }
   ],
   "source": [
    "from dotenv import load_dotenv\n",
    "load_dotenv()"
   ]
  },
  {
   "cell_type": "markdown",
   "metadata": {},
   "source": [
    "## Challenge 1: Fork Languages\n",
    "\n",
    "You will find out how many programming languages are used among all the forks created from the main lab repo of your bootcamp. Assuming the main lab repo is ironhack-datalabs/datamad1020-rev, you will:\n",
    "\n",
    "1. Obtain the full list of forks created from the main lab repo via Github API.\n",
    "\n",
    "2. Loop the JSON response to find out the language attribute of each fork. Use an array to store the language attributes of each fork.\n",
    "\n",
    "Hint: Each language should appear only once in your array.\n",
    "\n",
    "3. Print the language array. It should be something like:\n",
    "\n",
    "[\"Python\", \"Jupyter Notebook\", \"HTML\"]\n"
   ]
  },
  {
   "cell_type": "markdown",
   "metadata": {},
   "source": [
    "**HINT:**: Create a list with every **language_url** you find in every fork "
   ]
  },
  {
   "cell_type": "markdown",
   "metadata": {},
   "source": [
    "⚠️ **Remember to limit your output before submission**."
   ]
  },
  {
   "cell_type": "code",
   "execution_count": 6,
   "metadata": {},
   "outputs": [],
   "source": [
    "#Your code\n",
    "url = \"https://api.github.com/repos/ironhack-datalabs/datamad1020-rev/forks\"\n",
    "\n",
    "token = open(\"../token.txt\").readlines()[0]\n",
    "\n",
    "params = {\"Authorization\": f\"token {token}\"\n",
    "         }"
   ]
  },
  {
   "cell_type": "code",
   "execution_count": 7,
   "metadata": {},
   "outputs": [
    {
     "data": {
      "text/plain": [
       "200"
      ]
     },
     "execution_count": 7,
     "metadata": {},
     "output_type": "execute_result"
    }
   ],
   "source": [
    "response = requests.get(url, headers = params)\n",
    "response.status_code\n"
   ]
  },
  {
   "cell_type": "code",
   "execution_count": null,
   "metadata": {},
   "outputs": [],
   "source": [
    "res = response.json()"
   ]
  },
  {
   "cell_type": "code",
   "execution_count": null,
   "metadata": {},
   "outputs": [],
   "source": [
    "#Para los forks\n",
    "for dicts in res:\n",
    "    for key, value in dicts.items():\n",
    "        if \"forks_url\" in key:\n",
    "            print(key, value)\n",
    "        "
   ]
  },
  {
   "cell_type": "code",
   "execution_count": null,
   "metadata": {},
   "outputs": [],
   "source": [
    "#Para los lenguajes:\n",
    "language = []\n",
    "\n",
    "for key in res:\n",
    "    if 'language' in key:\n",
    "        language.append(key[\"language\"])\n",
    "        \n",
    "print(language)\n",
    "       "
   ]
  },
  {
   "cell_type": "markdown",
   "metadata": {},
   "source": [
    "## Challenge 2: Count Commits\n",
    "\n",
    "Count how many commits were made in the past week.\n",
    "\n",
    "Obtain all the commits made in the past week via API, which is a JSON array that contains multiple commit objects.\n",
    "\n",
    "Count how many commit objects are contained in the array.\n",
    "\n"
   ]
  },
  {
   "cell_type": "markdown",
   "metadata": {},
   "source": [
    "⚠️ **Remember to limit your output before submission**."
   ]
  },
  {
   "cell_type": "code",
   "execution_count": null,
   "metadata": {},
   "outputs": [],
   "source": [
    "#Your code\n",
    "url = \"https://api.github.com/repos/ironhack-datalabs/datamad1020-rev/commits\"\n",
    "\n",
    "token = open(\"../token.txt\").readlines()[0]\n",
    "\n",
    "token = {\"Authorization\": f\"token {token}\"          \n",
    "         }\n",
    "\n",
    "params = {\"since\": \"2021-01-19\"\n",
    "         }\n",
    "\n",
    "commits = requests.get(url, headers = token, params = params)\n",
    "commits.status_code\n",
    "commits = commits.json()\n"
   ]
  },
  {
   "cell_type": "code",
   "execution_count": null,
   "metadata": {},
   "outputs": [],
   "source": [
    "# Para los commits de la semana pasada\n",
    "# Cuando llamamos este API nos devuelve una lista de los commit del repositorio. \n",
    "###¿Habrá tantos diccionarios como commits?###\n",
    "\n",
    "# Si es así, para saber los commits de la última semana sería la longitud de la lista que nos devuelve:\n",
    "\n",
    "len(commits)"
   ]
  },
  {
   "cell_type": "code",
   "execution_count": null,
   "metadata": {},
   "outputs": [],
   "source": [
    "#Obtain all the commits made in the past week via API, which is a JSON array that contains multiple commit objects.\n",
    "#Tenemos solo un commit, lo que voy a intentar es dar toda la info del commit ordenadita en un dataframe \n",
    "\n",
    "df_commit = pd.json_normalize(commits)\n",
    "df_commit.index = [\"Commit_1\"]\n",
    "df_commit.transpose()[:10]"
   ]
  },
  {
   "cell_type": "code",
   "execution_count": null,
   "metadata": {},
   "outputs": [],
   "source": [
    "#Count how many commit objects are contained in the array.\n",
    "count = 0\n",
    "for dicts in commits:\n",
    "    for key in dicts:\n",
    "        if \"commit\" in key:\n",
    "            count += 1\n",
    "print(count)    "
   ]
  },
  {
   "cell_type": "markdown",
   "metadata": {},
   "source": [
    "## Challenge 3: Hidden Cold Joke\n",
    "\n",
    "Using Python, call Github API to find out the cold joke contained in the 24 secret files in the following repo:\n",
    "\n",
    "https://github.com/ironhack-datalabs/scavenger\n",
    "\n",
    "The filenames of the secret files contain .scavengerhunt and they are scattered in different directories of this repo. The secret files are named from .0001.scavengerhunt to .0024.scavengerhunt. They are scattered randomly throughout this repo. You need to search for these files by calling the Github API, not searching the local files on your computer.\n",
    "\n",
    "\n",
    "After you find out the secrete files:\n",
    "\n",
    "Sort the filenames ascendingly.\n",
    "\n",
    "Read the content of each secret files into an array of strings.\n",
    "\n",
    "Concatenate the strings in the array separating each two with a whitespace.\n",
    "\n",
    "Print out the joke.\n"
   ]
  },
  {
   "cell_type": "markdown",
   "metadata": {},
   "source": [
    "⚠️ **Remember to limit your output before submission**."
   ]
  },
  {
   "cell_type": "code",
   "execution_count": 8,
   "metadata": {},
   "outputs": [],
   "source": [
    "# Your code\n",
    "url = \"https://api.github.com/repos/ironhack-datalabs/scavenger/contents\"\n",
    "token = open(\"../token.txt\").readlines()[0]\n",
    "\n",
    "params = {\"Authorization\": f\"token {token}\"\n",
    "         }\n"
   ]
  },
  {
   "cell_type": "code",
   "execution_count": 9,
   "metadata": {},
   "outputs": [
    {
     "data": {
      "text/plain": [
       "list"
      ]
     },
     "execution_count": 9,
     "metadata": {},
     "output_type": "execute_result"
    }
   ],
   "source": [
    "secret = requests.get(url, headers = params)\n",
    "secret.status_code\n",
    "secret = secret.json()\n",
    "type(secret)\n",
    "\n",
    "#lista con 26 diccionarios"
   ]
  },
  {
   "cell_type": "code",
   "execution_count": 24,
   "metadata": {},
   "outputs": [
    {
     "data": {
      "text/html": [
       "<div>\n",
       "<style scoped>\n",
       "    .dataframe tbody tr th:only-of-type {\n",
       "        vertical-align: middle;\n",
       "    }\n",
       "\n",
       "    .dataframe tbody tr th {\n",
       "        vertical-align: top;\n",
       "    }\n",
       "\n",
       "    .dataframe thead th {\n",
       "        text-align: right;\n",
       "    }\n",
       "</style>\n",
       "<table border=\"1\" class=\"dataframe\">\n",
       "  <thead>\n",
       "    <tr style=\"text-align: right;\">\n",
       "      <th></th>\n",
       "      <th>name</th>\n",
       "      <th>path</th>\n",
       "      <th>sha</th>\n",
       "      <th>size</th>\n",
       "      <th>url</th>\n",
       "      <th>html_url</th>\n",
       "      <th>git_url</th>\n",
       "      <th>download_url</th>\n",
       "      <th>type</th>\n",
       "      <th>_links</th>\n",
       "    </tr>\n",
       "  </thead>\n",
       "  <tbody>\n",
       "    <tr>\n",
       "      <th>0</th>\n",
       "      <td>.gitignore</td>\n",
       "      <td>.gitignore</td>\n",
       "      <td>e43b0f988953ae3a84b00331d0ccf5f7d51cb3cf</td>\n",
       "      <td>10</td>\n",
       "      <td>https://api.github.com/repos/ironhack-datalabs...</td>\n",
       "      <td>https://github.com/ironhack-datalabs/scavenger...</td>\n",
       "      <td>https://api.github.com/repos/ironhack-datalabs...</td>\n",
       "      <td>https://raw.githubusercontent.com/ironhack-dat...</td>\n",
       "      <td>file</td>\n",
       "      <td>{'self': 'https://api.github.com/repos/ironhac...</td>\n",
       "    </tr>\n",
       "    <tr>\n",
       "      <th>1</th>\n",
       "      <td>15024</td>\n",
       "      <td>15024</td>\n",
       "      <td>2945e51c87ad5da893c954afcf092f06343bbb7d</td>\n",
       "      <td>0</td>\n",
       "      <td>https://api.github.com/repos/ironhack-datalabs...</td>\n",
       "      <td>https://github.com/ironhack-datalabs/scavenger...</td>\n",
       "      <td>https://api.github.com/repos/ironhack-datalabs...</td>\n",
       "      <td>None</td>\n",
       "      <td>dir</td>\n",
       "      <td>{'self': 'https://api.github.com/repos/ironhac...</td>\n",
       "    </tr>\n",
       "    <tr>\n",
       "      <th>2</th>\n",
       "      <td>15534</td>\n",
       "      <td>15534</td>\n",
       "      <td>5af6f2a7287e4191f39e55693fc1e9c8918d1d3a</td>\n",
       "      <td>0</td>\n",
       "      <td>https://api.github.com/repos/ironhack-datalabs...</td>\n",
       "      <td>https://github.com/ironhack-datalabs/scavenger...</td>\n",
       "      <td>https://api.github.com/repos/ironhack-datalabs...</td>\n",
       "      <td>None</td>\n",
       "      <td>dir</td>\n",
       "      <td>{'self': 'https://api.github.com/repos/ironhac...</td>\n",
       "    </tr>\n",
       "    <tr>\n",
       "      <th>3</th>\n",
       "      <td>17020</td>\n",
       "      <td>17020</td>\n",
       "      <td>9c49f920aa4d9433fa99a5824128f0e6b90ec5f2</td>\n",
       "      <td>0</td>\n",
       "      <td>https://api.github.com/repos/ironhack-datalabs...</td>\n",
       "      <td>https://github.com/ironhack-datalabs/scavenger...</td>\n",
       "      <td>https://api.github.com/repos/ironhack-datalabs...</td>\n",
       "      <td>None</td>\n",
       "      <td>dir</td>\n",
       "      <td>{'self': 'https://api.github.com/repos/ironhac...</td>\n",
       "    </tr>\n",
       "    <tr>\n",
       "      <th>4</th>\n",
       "      <td>30351</td>\n",
       "      <td>30351</td>\n",
       "      <td>c488d7f64088c852e22067d48fdc64ee3670f3ba</td>\n",
       "      <td>0</td>\n",
       "      <td>https://api.github.com/repos/ironhack-datalabs...</td>\n",
       "      <td>https://github.com/ironhack-datalabs/scavenger...</td>\n",
       "      <td>https://api.github.com/repos/ironhack-datalabs...</td>\n",
       "      <td>None</td>\n",
       "      <td>dir</td>\n",
       "      <td>{'self': 'https://api.github.com/repos/ironhac...</td>\n",
       "    </tr>\n",
       "  </tbody>\n",
       "</table>\n",
       "</div>"
      ],
      "text/plain": [
       "         name        path                                       sha  size  \\\n",
       "0  .gitignore  .gitignore  e43b0f988953ae3a84b00331d0ccf5f7d51cb3cf    10   \n",
       "1       15024       15024  2945e51c87ad5da893c954afcf092f06343bbb7d     0   \n",
       "2       15534       15534  5af6f2a7287e4191f39e55693fc1e9c8918d1d3a     0   \n",
       "3       17020       17020  9c49f920aa4d9433fa99a5824128f0e6b90ec5f2     0   \n",
       "4       30351       30351  c488d7f64088c852e22067d48fdc64ee3670f3ba     0   \n",
       "\n",
       "                                                 url  \\\n",
       "0  https://api.github.com/repos/ironhack-datalabs...   \n",
       "1  https://api.github.com/repos/ironhack-datalabs...   \n",
       "2  https://api.github.com/repos/ironhack-datalabs...   \n",
       "3  https://api.github.com/repos/ironhack-datalabs...   \n",
       "4  https://api.github.com/repos/ironhack-datalabs...   \n",
       "\n",
       "                                            html_url  \\\n",
       "0  https://github.com/ironhack-datalabs/scavenger...   \n",
       "1  https://github.com/ironhack-datalabs/scavenger...   \n",
       "2  https://github.com/ironhack-datalabs/scavenger...   \n",
       "3  https://github.com/ironhack-datalabs/scavenger...   \n",
       "4  https://github.com/ironhack-datalabs/scavenger...   \n",
       "\n",
       "                                             git_url  \\\n",
       "0  https://api.github.com/repos/ironhack-datalabs...   \n",
       "1  https://api.github.com/repos/ironhack-datalabs...   \n",
       "2  https://api.github.com/repos/ironhack-datalabs...   \n",
       "3  https://api.github.com/repos/ironhack-datalabs...   \n",
       "4  https://api.github.com/repos/ironhack-datalabs...   \n",
       "\n",
       "                                        download_url  type  \\\n",
       "0  https://raw.githubusercontent.com/ironhack-dat...  file   \n",
       "1                                               None   dir   \n",
       "2                                               None   dir   \n",
       "3                                               None   dir   \n",
       "4                                               None   dir   \n",
       "\n",
       "                                              _links  \n",
       "0  {'self': 'https://api.github.com/repos/ironhac...  \n",
       "1  {'self': 'https://api.github.com/repos/ironhac...  \n",
       "2  {'self': 'https://api.github.com/repos/ironhac...  \n",
       "3  {'self': 'https://api.github.com/repos/ironhac...  \n",
       "4  {'self': 'https://api.github.com/repos/ironhac...  "
      ]
     },
     "execution_count": 24,
     "metadata": {},
     "output_type": "execute_result"
    }
   ],
   "source": [
    "####Simplemente para que yo lo vea más claro, no lo uso para nada####\n",
    "cont = pd.DataFrame(secret)\n",
    "cont[:5]\n"
   ]
  },
  {
   "cell_type": "code",
   "execution_count": 25,
   "metadata": {},
   "outputs": [],
   "source": [
    "# los archivos que quiero buscar estan dentro de path. Por lo tanto, es lo único que me interesa:\n",
    "path  = list(cont['path'])"
   ]
  },
  {
   "cell_type": "code",
   "execution_count": 55,
   "metadata": {},
   "outputs": [
    {
     "data": {
      "text/plain": [
       "['.gitignore',\n",
       " '15024',\n",
       " '15534',\n",
       " '17020',\n",
       " '30351',\n",
       " '40303',\n",
       " '44639',\n",
       " '45525',\n",
       " '47222',\n",
       " '47830',\n",
       " '49418',\n",
       " '50896',\n",
       " '55417',\n",
       " '55685',\n",
       " '60224',\n",
       " '64880',\n",
       " '66032',\n",
       " '68848',\n",
       " '70751',\n",
       " '70985',\n",
       " '88596',\n",
       " '89046',\n",
       " '89338',\n",
       " '91701',\n",
       " '97881',\n",
       " '98750']"
      ]
     },
     "execution_count": 55,
     "metadata": {},
     "output_type": "execute_result"
    }
   ],
   "source": [
    "#Ahora voy a intentar sacar solo la información que me interesa \"path\". Dentro de estos path están los ficheros que me interesan\n",
    "\n",
    "def get_list(json_file,key):\n",
    "    list_key = []\n",
    "    for i in range(len(json_file)):\n",
    "        value = json_file[i][key]\n",
    "        list_key.append(value)\n",
    "    return list_key\n",
    "\n",
    "dir_list = get_list(json_file = secret, key ='path')\n",
    "dir_list"
   ]
  },
  {
   "cell_type": "code",
   "execution_count": 45,
   "metadata": {},
   "outputs": [
    {
     "data": {
      "text/plain": [
       "['.0001.scavengerhunt',\n",
       " '.0002.scavengerhunt',\n",
       " '.0003.scavengerhunt',\n",
       " '.0004.scavengerhunt',\n",
       " '.0005.scavengerhunt',\n",
       " '.0006.scavengerhunt',\n",
       " '.0007.scavengerhunt',\n",
       " '.0008.scavengerhunt',\n",
       " '.0009.scavengerhunt',\n",
       " '.00010.scavengerhunt',\n",
       " '.00011.scavengerhunt',\n",
       " '.00012.scavengerhunt',\n",
       " '.00013.scavengerhunt',\n",
       " '.00014.scavengerhunt',\n",
       " '.00015.scavengerhunt',\n",
       " '.00016.scavengerhunt',\n",
       " '.00017.scavengerhunt',\n",
       " '.00018.scavengerhunt',\n",
       " '.00019.scavengerhunt',\n",
       " '.00020.scavengerhunt',\n",
       " '.00021.scavengerhunt',\n",
       " '.00022.scavengerhunt',\n",
       " '.00023.scavengerhunt',\n",
       " '.00024.scavengerhunt']"
      ]
     },
     "execution_count": 45,
     "metadata": {},
     "output_type": "execute_result"
    }
   ],
   "source": [
    "#Esta es una lista con los ficheros que me interesan\n",
    "sec_files = []\n",
    "\n",
    "for i in range(1,25):\n",
    "    file = f'.000{i}.scavengerhunt'\n",
    "    sec_files.append(file)\n",
    "    \n",
    "sec_files"
   ]
  },
  {
   "cell_type": "code",
   "execution_count": null,
   "metadata": {},
   "outputs": [],
   "source": []
  }
 ],
 "metadata": {
  "kernelspec": {
   "display_name": "Python 3",
   "language": "python",
   "name": "python3"
  },
  "language_info": {
   "codemirror_mode": {
    "name": "ipython",
    "version": 3
   },
   "file_extension": ".py",
   "mimetype": "text/x-python",
   "name": "python",
   "nbconvert_exporter": "python",
   "pygments_lexer": "ipython3",
   "version": "3.8.5"
  }
 },
 "nbformat": 4,
 "nbformat_minor": 2
}
