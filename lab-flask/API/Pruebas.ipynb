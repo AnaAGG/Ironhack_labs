{
 "cells": [
  {
   "cell_type": "code",
   "execution_count": 3,
   "id": "fuzzy-integral",
   "metadata": {},
   "outputs": [],
   "source": [
    "from flask import Flask, request, jsonify\n",
    "from pymongo import MongoClient\n",
    "from bson.json_util import dumps\n",
    "from bson.objectid import ObjectId\n",
    "\n",
    "client =  MongoClient()\n",
    "db = client.labflask\n",
    "celebrities = db.celebrities\n",
    "movies = db.movies\n",
    "\n",
    "\n",
    "def insert_celebrity(name, occupation, phrase):\n",
    "    celebrity_data = {\"name\": f'{name}',\n",
    "                      \"occupation\": f'{occupation}', \n",
    "                      'phrase': f'{phrase}'}\n",
    "    cel_info =  celebrities.insert_one(celebrity_data)\n",
    "    return cel_info.inserted_id"
   ]
  },
  {
   "cell_type": "code",
   "execution_count": 4,
   "id": "useful-trailer",
   "metadata": {},
   "outputs": [
    {
     "data": {
      "text/plain": [
       "ObjectId('602dbc0e8fc4aad58db60440')"
      ]
     },
     "execution_count": 4,
     "metadata": {},
     "output_type": "execute_result"
    }
   ],
   "source": [
    "insert_celebrity('Brad Pitt', 'actor', 'Debes perder todo para ganar algo.')\n",
    "insert_celebrity('Benedict Cumberbatch', 'actor', \" Debes perder todo para ganar algo.\")\n",
    "insert_celebrity('Scarlett Johansson', 'actor', \" Si voy a hacer algo tengo que ser muy buena en ello, o mejor no lo hago.\")"
   ]
  },
  {
   "cell_type": "code",
   "execution_count": 13,
   "id": "further-eating",
   "metadata": {},
   "outputs": [],
   "source": [
    "info = list(db.celebrities.find({}, {\"name\":1, \"_id\":1}))"
   ]
  },
  {
   "cell_type": "code",
   "execution_count": 14,
   "id": "commercial-hypothetical",
   "metadata": {},
   "outputs": [
    {
     "data": {
      "text/plain": [
       "[{'_id': ObjectId('602dbb7c254b30731559c4e8'), 'name': 'Brad Pitt'},\n",
       " {'_id': ObjectId('602dbb7c254b30731559c4e9'), 'name': 'Benedict Cumberbatch'},\n",
       " {'_id': ObjectId('602dbb7c254b30731559c4ea'), 'name': 'Scarlett Johansson'},\n",
       " {'_id': ObjectId('602dbbd38fc4aad58db6043a'), 'name': 'Brad Pitt'},\n",
       " {'_id': ObjectId('602dbbd38fc4aad58db6043b'), 'name': 'Benedict Cumberbatch'},\n",
       " {'_id': ObjectId('602dbbd38fc4aad58db6043c'), 'name': 'Scarlett Johansson'},\n",
       " {'_id': ObjectId('602dbc0e8fc4aad58db6043e'), 'name': 'Brad Pitt'},\n",
       " {'_id': ObjectId('602dbc0e8fc4aad58db6043f'), 'name': 'Benedict Cumberbatch'},\n",
       " {'_id': ObjectId('602dbc0e8fc4aad58db60440'), 'name': 'Scarlett Johansson'}]"
      ]
     },
     "execution_count": 14,
     "metadata": {},
     "output_type": "execute_result"
    }
   ],
   "source": [
    "info"
   ]
  },
  {
   "cell_type": "code",
   "execution_count": null,
   "id": "continent-certification",
   "metadata": {},
   "outputs": [],
   "source": []
  }
 ],
 "metadata": {
  "kernelspec": {
   "display_name": "Python 3",
   "language": "python",
   "name": "python3"
  },
  "language_info": {
   "codemirror_mode": {
    "name": "ipython",
    "version": 3
   },
   "file_extension": ".py",
   "mimetype": "text/x-python",
   "name": "python",
   "nbconvert_exporter": "python",
   "pygments_lexer": "ipython3",
   "version": "3.8.5"
  },
  "toc": {
   "base_numbering": 1,
   "nav_menu": {},
   "number_sections": true,
   "sideBar": true,
   "skip_h1_title": false,
   "title_cell": "Table of Contents",
   "title_sidebar": "Contents",
   "toc_cell": false,
   "toc_position": {},
   "toc_section_display": true,
   "toc_window_display": false
  },
  "varInspector": {
   "cols": {
    "lenName": 16,
    "lenType": 16,
    "lenVar": 40
   },
   "kernels_config": {
    "python": {
     "delete_cmd_postfix": "",
     "delete_cmd_prefix": "del ",
     "library": "var_list.py",
     "varRefreshCmd": "print(var_dic_list())"
    },
    "r": {
     "delete_cmd_postfix": ") ",
     "delete_cmd_prefix": "rm(",
     "library": "var_list.r",
     "varRefreshCmd": "cat(var_dic_list()) "
    }
   },
   "types_to_exclude": [
    "module",
    "function",
    "builtin_function_or_method",
    "instance",
    "_Feature"
   ],
   "window_display": false
  }
 },
 "nbformat": 4,
 "nbformat_minor": 5
}
